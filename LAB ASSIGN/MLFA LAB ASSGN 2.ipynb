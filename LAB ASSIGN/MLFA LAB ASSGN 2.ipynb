{
 "cells": [
  {
   "cell_type": "markdown",
   "source": [
    "# FEATURE SELECTION\n",
    "Feature selection is a process where you automatically or manually select those features which have the maximum contribution to your model prediction output. Having irrelevant features can lead to a decrease in accuracy as your model learns from insignificant features.\n",
    "\n",
    "This assignment will focus on manual selection of relevant features.\n",
    "The dataset is of different camera models with different featues and their price. \n",
    "\n",
    "The assignment has both marked questions and unmarked ones. \n",
    "All questions written beside QUESTION # are evaluated for your final score and the ones that are not have been given only to improve your understanding."
   ],
   "metadata": {
    "id": "JbIKDfFW45Ux"
   }
  },
  {
   "cell_type": "markdown",
   "source": [
    "## 1. Importing Important Packages"
   ],
   "metadata": {
    "id": "lTtpMl2W54P7"
   }
  },
  {
   "cell_type": "code",
   "execution_count": 36,
   "source": [
    "# ALL NECESSARY PACKAGES HAVE BEEN IMPORTED FOR YOU\r\n",
    "# DO NOT MAKE ANY CHANGES IN THIS CODE CELL!\r\n",
    "\r\n",
    "import numpy as np\r\n",
    "import pandas as pd\r\n",
    "import matplotlib.pyplot as plt\r\n",
    "from sklearn.linear_model import LinearRegression \r\n",
    "from sklearn.model_selection import train_test_split\r\n",
    "from scipy.stats import pearsonr\r\n",
    "from pandas.plotting import scatter_matrix\r\n",
    "import json\r\n",
    "ans = [None]*8"
   ],
   "outputs": [],
   "metadata": {
    "id": "UMOQ75XN4v9X"
   }
  },
  {
   "cell_type": "code",
   "execution_count": 37,
   "source": [
    "import warnings\r\n",
    "warnings.filterwarnings(\"ignore\")"
   ],
   "outputs": [],
   "metadata": {}
  },
  {
   "cell_type": "markdown",
   "source": [
    "## 2. Importing the Dataset\n"
   ],
   "metadata": {
    "id": "sJApY7_B8sbD"
   }
  },
  {
   "cell_type": "code",
   "execution_count": 38,
   "source": [
    "# THE DATASET HAS BEEN IMPORTED AND STORED IN THE VARIABLE DATASET\r\n",
    "# A SMALL SET OF THE DATA HAS BEEN SHOWN WHICH WILL GIVE A BRIEF UNDERSTANDING OF THE DATASET\r\n",
    "# THE DESCRIPTION OF THE DATA HAS ALSO BEEN PRINTED\r\n",
    "# DO NOT MAKE CHANGES IN THE CELL!\r\n",
    "\r\n",
    "dataset = pd.read_csv(\"camera_dataset.csv\")\r\n",
    "dataset.head()"
   ],
   "outputs": [
    {
     "output_type": "execute_result",
     "data": {
      "text/html": [
       "<div>\n",
       "<style scoped>\n",
       "    .dataframe tbody tr th:only-of-type {\n",
       "        vertical-align: middle;\n",
       "    }\n",
       "\n",
       "    .dataframe tbody tr th {\n",
       "        vertical-align: top;\n",
       "    }\n",
       "\n",
       "    .dataframe thead th {\n",
       "        text-align: right;\n",
       "    }\n",
       "</style>\n",
       "<table border=\"1\" class=\"dataframe\">\n",
       "  <thead>\n",
       "    <tr style=\"text-align: right;\">\n",
       "      <th></th>\n",
       "      <th>Model</th>\n",
       "      <th>Release date</th>\n",
       "      <th>Max resolution</th>\n",
       "      <th>Low resolution</th>\n",
       "      <th>Effective pixels</th>\n",
       "      <th>Zoom wide (W)</th>\n",
       "      <th>Zoom tele (T)</th>\n",
       "      <th>Normal focus range</th>\n",
       "      <th>Macro focus range</th>\n",
       "      <th>Storage included</th>\n",
       "      <th>Weight (inc. batteries)</th>\n",
       "      <th>Dimensions</th>\n",
       "      <th>Price</th>\n",
       "    </tr>\n",
       "  </thead>\n",
       "  <tbody>\n",
       "    <tr>\n",
       "      <th>0</th>\n",
       "      <td>Agfa ePhoto 1280</td>\n",
       "      <td>1997</td>\n",
       "      <td>1024.0</td>\n",
       "      <td>640.0</td>\n",
       "      <td>0.0</td>\n",
       "      <td>38.0</td>\n",
       "      <td>114.0</td>\n",
       "      <td>70.0</td>\n",
       "      <td>40.0</td>\n",
       "      <td>4.0</td>\n",
       "      <td>420.0</td>\n",
       "      <td>95.0</td>\n",
       "      <td>179.0</td>\n",
       "    </tr>\n",
       "    <tr>\n",
       "      <th>1</th>\n",
       "      <td>Agfa ePhoto 1680</td>\n",
       "      <td>1998</td>\n",
       "      <td>1280.0</td>\n",
       "      <td>640.0</td>\n",
       "      <td>1.0</td>\n",
       "      <td>38.0</td>\n",
       "      <td>114.0</td>\n",
       "      <td>50.0</td>\n",
       "      <td>0.0</td>\n",
       "      <td>4.0</td>\n",
       "      <td>420.0</td>\n",
       "      <td>158.0</td>\n",
       "      <td>179.0</td>\n",
       "    </tr>\n",
       "    <tr>\n",
       "      <th>2</th>\n",
       "      <td>Agfa ePhoto CL18</td>\n",
       "      <td>2000</td>\n",
       "      <td>640.0</td>\n",
       "      <td>0.0</td>\n",
       "      <td>0.0</td>\n",
       "      <td>45.0</td>\n",
       "      <td>45.0</td>\n",
       "      <td>0.0</td>\n",
       "      <td>0.0</td>\n",
       "      <td>2.0</td>\n",
       "      <td>0.0</td>\n",
       "      <td>0.0</td>\n",
       "      <td>179.0</td>\n",
       "    </tr>\n",
       "    <tr>\n",
       "      <th>3</th>\n",
       "      <td>Agfa ePhoto CL30</td>\n",
       "      <td>1999</td>\n",
       "      <td>1152.0</td>\n",
       "      <td>640.0</td>\n",
       "      <td>0.0</td>\n",
       "      <td>35.0</td>\n",
       "      <td>35.0</td>\n",
       "      <td>0.0</td>\n",
       "      <td>0.0</td>\n",
       "      <td>4.0</td>\n",
       "      <td>0.0</td>\n",
       "      <td>0.0</td>\n",
       "      <td>269.0</td>\n",
       "    </tr>\n",
       "    <tr>\n",
       "      <th>4</th>\n",
       "      <td>Agfa ePhoto CL30 Clik!</td>\n",
       "      <td>1999</td>\n",
       "      <td>1152.0</td>\n",
       "      <td>640.0</td>\n",
       "      <td>0.0</td>\n",
       "      <td>43.0</td>\n",
       "      <td>43.0</td>\n",
       "      <td>50.0</td>\n",
       "      <td>0.0</td>\n",
       "      <td>40.0</td>\n",
       "      <td>300.0</td>\n",
       "      <td>128.0</td>\n",
       "      <td>1299.0</td>\n",
       "    </tr>\n",
       "  </tbody>\n",
       "</table>\n",
       "</div>"
      ],
      "text/plain": [
       "                    Model  Release date  Max resolution  Low resolution  \\\n",
       "0        Agfa ePhoto 1280          1997          1024.0           640.0   \n",
       "1        Agfa ePhoto 1680          1998          1280.0           640.0   \n",
       "2        Agfa ePhoto CL18          2000           640.0             0.0   \n",
       "3        Agfa ePhoto CL30          1999          1152.0           640.0   \n",
       "4  Agfa ePhoto CL30 Clik!          1999          1152.0           640.0   \n",
       "\n",
       "   Effective pixels  Zoom wide (W)  Zoom tele (T)  Normal focus range  \\\n",
       "0               0.0           38.0          114.0                70.0   \n",
       "1               1.0           38.0          114.0                50.0   \n",
       "2               0.0           45.0           45.0                 0.0   \n",
       "3               0.0           35.0           35.0                 0.0   \n",
       "4               0.0           43.0           43.0                50.0   \n",
       "\n",
       "   Macro focus range  Storage included  Weight (inc. batteries)  Dimensions  \\\n",
       "0               40.0               4.0                    420.0        95.0   \n",
       "1                0.0               4.0                    420.0       158.0   \n",
       "2                0.0               2.0                      0.0         0.0   \n",
       "3                0.0               4.0                      0.0         0.0   \n",
       "4                0.0              40.0                    300.0       128.0   \n",
       "\n",
       "    Price  \n",
       "0   179.0  \n",
       "1   179.0  \n",
       "2   179.0  \n",
       "3   269.0  \n",
       "4  1299.0  "
      ]
     },
     "metadata": {},
     "execution_count": 38
    }
   ],
   "metadata": {
    "id": "oK2veMTk468d"
   }
  },
  {
   "cell_type": "code",
   "execution_count": 39,
   "source": [
    "# OBSERVE THE STATISTICS OF THE DIFFERENT FEATURES OF THE DATASET\r\n",
    "# DO NOT CHANGE THIS CELL\r\n",
    "\r\n",
    "print(\"Statistics of the Dataset: \\n\")\r\n",
    "dataset.describe()"
   ],
   "outputs": [
    {
     "output_type": "stream",
     "name": "stdout",
     "text": [
      "Statistics of the Dataset: \n",
      "\n"
     ]
    },
    {
     "output_type": "execute_result",
     "data": {
      "text/html": [
       "<div>\n",
       "<style scoped>\n",
       "    .dataframe tbody tr th:only-of-type {\n",
       "        vertical-align: middle;\n",
       "    }\n",
       "\n",
       "    .dataframe tbody tr th {\n",
       "        vertical-align: top;\n",
       "    }\n",
       "\n",
       "    .dataframe thead th {\n",
       "        text-align: right;\n",
       "    }\n",
       "</style>\n",
       "<table border=\"1\" class=\"dataframe\">\n",
       "  <thead>\n",
       "    <tr style=\"text-align: right;\">\n",
       "      <th></th>\n",
       "      <th>Release date</th>\n",
       "      <th>Max resolution</th>\n",
       "      <th>Low resolution</th>\n",
       "      <th>Effective pixels</th>\n",
       "      <th>Zoom wide (W)</th>\n",
       "      <th>Zoom tele (T)</th>\n",
       "      <th>Normal focus range</th>\n",
       "      <th>Macro focus range</th>\n",
       "      <th>Storage included</th>\n",
       "      <th>Weight (inc. batteries)</th>\n",
       "      <th>Dimensions</th>\n",
       "      <th>Price</th>\n",
       "    </tr>\n",
       "  </thead>\n",
       "  <tbody>\n",
       "    <tr>\n",
       "      <th>count</th>\n",
       "      <td>1038.000000</td>\n",
       "      <td>1038.000000</td>\n",
       "      <td>1038.000000</td>\n",
       "      <td>1038.000000</td>\n",
       "      <td>1038.000000</td>\n",
       "      <td>1038.000000</td>\n",
       "      <td>1038.000000</td>\n",
       "      <td>1037.000000</td>\n",
       "      <td>1036.000000</td>\n",
       "      <td>1036.000000</td>\n",
       "      <td>1036.000000</td>\n",
       "      <td>1038.000000</td>\n",
       "    </tr>\n",
       "    <tr>\n",
       "      <th>mean</th>\n",
       "      <td>2003.590559</td>\n",
       "      <td>2474.672447</td>\n",
       "      <td>1773.936416</td>\n",
       "      <td>4.596339</td>\n",
       "      <td>32.963391</td>\n",
       "      <td>121.525048</td>\n",
       "      <td>44.145472</td>\n",
       "      <td>7.787850</td>\n",
       "      <td>17.447876</td>\n",
       "      <td>319.265444</td>\n",
       "      <td>105.363417</td>\n",
       "      <td>457.384393</td>\n",
       "    </tr>\n",
       "    <tr>\n",
       "      <th>std</th>\n",
       "      <td>2.724755</td>\n",
       "      <td>759.513608</td>\n",
       "      <td>830.897955</td>\n",
       "      <td>2.844044</td>\n",
       "      <td>10.333149</td>\n",
       "      <td>93.455422</td>\n",
       "      <td>24.141959</td>\n",
       "      <td>8.100081</td>\n",
       "      <td>27.440655</td>\n",
       "      <td>260.410137</td>\n",
       "      <td>24.262761</td>\n",
       "      <td>760.452918</td>\n",
       "    </tr>\n",
       "    <tr>\n",
       "      <th>min</th>\n",
       "      <td>1994.000000</td>\n",
       "      <td>0.000000</td>\n",
       "      <td>0.000000</td>\n",
       "      <td>0.000000</td>\n",
       "      <td>0.000000</td>\n",
       "      <td>0.000000</td>\n",
       "      <td>0.000000</td>\n",
       "      <td>0.000000</td>\n",
       "      <td>0.000000</td>\n",
       "      <td>0.000000</td>\n",
       "      <td>0.000000</td>\n",
       "      <td>14.000000</td>\n",
       "    </tr>\n",
       "    <tr>\n",
       "      <th>25%</th>\n",
       "      <td>2002.000000</td>\n",
       "      <td>2048.000000</td>\n",
       "      <td>1120.000000</td>\n",
       "      <td>3.000000</td>\n",
       "      <td>35.000000</td>\n",
       "      <td>96.000000</td>\n",
       "      <td>30.000000</td>\n",
       "      <td>3.000000</td>\n",
       "      <td>8.000000</td>\n",
       "      <td>180.000000</td>\n",
       "      <td>92.000000</td>\n",
       "      <td>149.000000</td>\n",
       "    </tr>\n",
       "    <tr>\n",
       "      <th>50%</th>\n",
       "      <td>2004.000000</td>\n",
       "      <td>2560.000000</td>\n",
       "      <td>2048.000000</td>\n",
       "      <td>4.000000</td>\n",
       "      <td>36.000000</td>\n",
       "      <td>108.000000</td>\n",
       "      <td>50.000000</td>\n",
       "      <td>6.000000</td>\n",
       "      <td>16.000000</td>\n",
       "      <td>226.000000</td>\n",
       "      <td>101.000000</td>\n",
       "      <td>199.000000</td>\n",
       "    </tr>\n",
       "    <tr>\n",
       "      <th>75%</th>\n",
       "      <td>2006.000000</td>\n",
       "      <td>3072.000000</td>\n",
       "      <td>2560.000000</td>\n",
       "      <td>7.000000</td>\n",
       "      <td>38.000000</td>\n",
       "      <td>117.000000</td>\n",
       "      <td>60.000000</td>\n",
       "      <td>10.000000</td>\n",
       "      <td>20.000000</td>\n",
       "      <td>350.000000</td>\n",
       "      <td>115.000000</td>\n",
       "      <td>399.000000</td>\n",
       "    </tr>\n",
       "    <tr>\n",
       "      <th>max</th>\n",
       "      <td>2007.000000</td>\n",
       "      <td>5616.000000</td>\n",
       "      <td>4992.000000</td>\n",
       "      <td>21.000000</td>\n",
       "      <td>52.000000</td>\n",
       "      <td>518.000000</td>\n",
       "      <td>120.000000</td>\n",
       "      <td>85.000000</td>\n",
       "      <td>450.000000</td>\n",
       "      <td>1860.000000</td>\n",
       "      <td>240.000000</td>\n",
       "      <td>7999.000000</td>\n",
       "    </tr>\n",
       "  </tbody>\n",
       "</table>\n",
       "</div>"
      ],
      "text/plain": [
       "       Release date  Max resolution  Low resolution  Effective pixels  \\\n",
       "count   1038.000000     1038.000000     1038.000000       1038.000000   \n",
       "mean    2003.590559     2474.672447     1773.936416          4.596339   \n",
       "std        2.724755      759.513608      830.897955          2.844044   \n",
       "min     1994.000000        0.000000        0.000000          0.000000   \n",
       "25%     2002.000000     2048.000000     1120.000000          3.000000   \n",
       "50%     2004.000000     2560.000000     2048.000000          4.000000   \n",
       "75%     2006.000000     3072.000000     2560.000000          7.000000   \n",
       "max     2007.000000     5616.000000     4992.000000         21.000000   \n",
       "\n",
       "       Zoom wide (W)  Zoom tele (T)  Normal focus range  Macro focus range  \\\n",
       "count    1038.000000    1038.000000         1038.000000        1037.000000   \n",
       "mean       32.963391     121.525048           44.145472           7.787850   \n",
       "std        10.333149      93.455422           24.141959           8.100081   \n",
       "min         0.000000       0.000000            0.000000           0.000000   \n",
       "25%        35.000000      96.000000           30.000000           3.000000   \n",
       "50%        36.000000     108.000000           50.000000           6.000000   \n",
       "75%        38.000000     117.000000           60.000000          10.000000   \n",
       "max        52.000000     518.000000          120.000000          85.000000   \n",
       "\n",
       "       Storage included  Weight (inc. batteries)   Dimensions        Price  \n",
       "count       1036.000000              1036.000000  1036.000000  1038.000000  \n",
       "mean          17.447876               319.265444   105.363417   457.384393  \n",
       "std           27.440655               260.410137    24.262761   760.452918  \n",
       "min            0.000000                 0.000000     0.000000    14.000000  \n",
       "25%            8.000000               180.000000    92.000000   149.000000  \n",
       "50%           16.000000               226.000000   101.000000   199.000000  \n",
       "75%           20.000000               350.000000   115.000000   399.000000  \n",
       "max          450.000000              1860.000000   240.000000  7999.000000  "
      ]
     },
     "metadata": {},
     "execution_count": 39
    }
   ],
   "metadata": {
    "id": "bIhwr-q7AsO4"
   }
  },
  {
   "cell_type": "code",
   "execution_count": 40,
   "source": [
    "dataset.shape"
   ],
   "outputs": [
    {
     "output_type": "execute_result",
     "data": {
      "text/plain": [
       "(1038, 13)"
      ]
     },
     "metadata": {},
     "execution_count": 40
    }
   ],
   "metadata": {}
  },
  {
   "cell_type": "code",
   "execution_count": 41,
   "source": [
    "# Find the total number of NaN values present in the dataset.\r\n",
    "# HINT: You can use \"df.isna()\" function (where df is your dataframe) from pandas to find NaN values.\r\n",
    "\r\n",
    "# START YOUR CODE HERE:\r\n",
    "print(\"Count, no. of rows with NaN values (column wise)\")\r\n",
    "dataset.isnull().sum()\r\n",
    "\r\n",
    "\r\n",
    "\r\n",
    "# END YOUR CODE HERE"
   ],
   "outputs": [
    {
     "output_type": "stream",
     "name": "stdout",
     "text": [
      "Count, no. of rows with NaN values (column wise)\n"
     ]
    },
    {
     "output_type": "execute_result",
     "data": {
      "text/plain": [
       "Model                      0\n",
       "Release date               0\n",
       "Max resolution             0\n",
       "Low resolution             0\n",
       "Effective pixels           0\n",
       "Zoom wide (W)              0\n",
       "Zoom tele (T)              0\n",
       "Normal focus range         0\n",
       "Macro focus range          1\n",
       "Storage included           2\n",
       "Weight (inc. batteries)    2\n",
       "Dimensions                 2\n",
       "Price                      0\n",
       "dtype: int64"
      ]
     },
     "metadata": {},
     "execution_count": 41
    }
   ],
   "metadata": {
    "id": "7cCgm80jIviq"
   }
  },
  {
   "cell_type": "code",
   "execution_count": 42,
   "source": [
    "# THE NaN VALUES HAVE BEEN CLEANED BY REMOVING THE CORRESPONDING DATA POINTS. \r\n",
    "# THE CLEANED DATASET IS STORED IN THE VARIABLE \"data\". USE IT FOR FURTHER USE\r\n",
    "\r\n",
    "# DO NOT CHANGE THIS CELL!\r\n",
    "\r\n",
    "def remove_nan(df):\r\n",
    "  df_copy = df.copy()\r\n",
    "  df_copy.dropna(inplace = True)\r\n",
    "  return df_copy\r\n",
    "\r\n",
    "data = remove_nan(dataset)"
   ],
   "outputs": [],
   "metadata": {
    "id": "zXBAd9tPCL6R"
   }
  },
  {
   "cell_type": "markdown",
   "source": [
    "## 3. UNDERSTANDING THE DATA"
   ],
   "metadata": {
    "id": "ZVIfC2jA_o7C"
   }
  },
  {
   "cell_type": "code",
   "execution_count": 43,
   "source": [
    "# Find the number of data points i.e rows in the cleaned dataset i.e data variable. You can already see in an above cell how many features i.e columns there are.\r\n",
    "\r\n",
    "# wRITE YOUR CODE HERE\r\n",
    "\r\n",
    "print(\"Cleaned dataset shape: \", data.shape)\r\n",
    "\r\n",
    "\r\n",
    "# END YOUR CODE HERE"
   ],
   "outputs": [
    {
     "output_type": "stream",
     "name": "stdout",
     "text": [
      "Cleaned dataset shape:  (1036, 13)\n"
     ]
    }
   ],
   "metadata": {
    "id": "SLLdMjUXFO9-"
   }
  },
  {
   "cell_type": "code",
   "execution_count": 44,
   "source": [
    "# QUESTION 1: Find the datatype of the values stored in the \"Model\" column of the dataset and write them inside inverted commas. () (1 marks)\r\n",
    "# QUESTION 2: Find the datatype of the values stored in the \"Dimensions\" column of the dataset and write them inside inverted commas. (1 marks)\r\n",
    "#                Assign the answer of Question 1 to ans[0],\r\n",
    "#                Assign the answer of Question 2 to ans[1]. \r\n",
    "#                eg:- ans[0] = \"int64\"/\"float64\" if the ans is int64/float64\r\n",
    "# NOTE: Do not write \"int\". Write \"int64\"."
   ],
   "outputs": [],
   "metadata": {
    "id": "_qK4guei9Lqm"
   }
  },
  {
   "cell_type": "code",
   "execution_count": 71,
   "source": [
    "# START YOUR CODE HERE:\r\n",
    "print(\"Data type of the column Model: \", str(data['Model'].dtypes))\r\n",
    "print(\"Data type of the column Dimensions: \", str(data['Dimensions'].dtypes))\r\n",
    "\r\n",
    "\r\n",
    "# END CODE HERE"
   ],
   "outputs": [
    {
     "output_type": "stream",
     "name": "stdout",
     "text": [
      "Data type of the column Model:  object\n",
      "Data type of the column Dimensions:  float64\n"
     ]
    }
   ],
   "metadata": {
    "id": "JcaUEO0zBAY-"
   }
  },
  {
   "cell_type": "code",
   "execution_count": 72,
   "source": [
    "# WRITE YOUR ANSWERS HERE BY SUBSTITUTING None WITH YOUR ANSWER:\r\n",
    "# DO NOT CHANGE THE INDEXES! OTHERWISE THE ANSWER MIGHT BE EVALUATED WRONG!\r\n",
    "\r\n",
    "ans[0] = str(data['Model'].dtypes)\r\n",
    "ans[1] = str(data['Dimensions'].dtypes)"
   ],
   "outputs": [],
   "metadata": {
    "id": "NOY9NKQPDXVV"
   }
  },
  {
   "cell_type": "code",
   "execution_count": 47,
   "source": [
    "# QUESTION 3: Find out the number of unique release dates present in the dataset under the \"Release date\" column. (1 mark)\r\n",
    "#             Assign the answer to ans[2].\r\n"
   ],
   "outputs": [],
   "metadata": {
    "id": "yd8DFuD8AY_S"
   }
  },
  {
   "cell_type": "code",
   "execution_count": 48,
   "source": [
    "# START YOUR CODE HERE\r\n",
    "\r\n",
    "data[\"Release date\"].unique()\r\n",
    "\r\n",
    "\r\n",
    "\r\n",
    "# END YOUR CODE HERE"
   ],
   "outputs": [
    {
     "output_type": "execute_result",
     "data": {
      "text/plain": [
       "array([1997, 1998, 2000, 1999, 2001, 1996, 2002, 2003, 2004, 2005, 2006,\n",
       "       2007, 1994, 1995], dtype=int64)"
      ]
     },
     "metadata": {},
     "execution_count": 48
    }
   ],
   "metadata": {
    "id": "xgHedvLkIOxX"
   }
  },
  {
   "cell_type": "code",
   "execution_count": 49,
   "source": [
    "# WRITE YOUR ANSWER HERE BY SUBSTITUTING None WITH YOUR ANSWER\r\n",
    "\r\n",
    "ans[2] = len(data[\"Release date\"].unique())  "
   ],
   "outputs": [],
   "metadata": {
    "id": "EBZbszSWIWNZ"
   }
  },
  {
   "cell_type": "code",
   "execution_count": 50,
   "source": [
    "# If you run the same for the \"Model\" column you will observe that the \r\n",
    "# model column is unique and cannot be treated as a feature for predicting the price.\r\n",
    "# Hence we will not bother about that column from now.\r\n",
    "print(\"Length of the dataset: \", len(data), \"\\nLength of the unique values of column Model: \", len(data[\"Model\"].unique()))"
   ],
   "outputs": [
    {
     "output_type": "stream",
     "name": "stdout",
     "text": [
      "Length of the dataset:  1036 \n",
      "Length of the unique values of column Model:  1036\n"
     ]
    }
   ],
   "metadata": {
    "id": "GSpZtVmBKVQI"
   }
  },
  {
   "cell_type": "markdown",
   "source": [
    "## 4. VISUALIZING THE DATA"
   ],
   "metadata": {
    "id": "-trfPH_iECbQ"
   }
  },
  {
   "cell_type": "code",
   "execution_count": 51,
   "source": [
    "# RUN THE CELL BELOW TO OBSERVE THE HISTOGRAM OF THE \"Release date\" COLUMN\r\n",
    "# DO NOT CHANGE THIS CELL!\r\n",
    "data.hist(column = \"Release date\");"
   ],
   "outputs": [
    {
     "output_type": "display_data",
     "data": {
      "image/png": "[encoded data removed]",
      "text/plain": [
       "<Figure size 432x288 with 1 Axes>"
      ]
     },
     "metadata": {
      "needs_background": "light"
     }
    }
   ],
   "metadata": {
    "id": "sbv2hLggHcoJ"
   }
  },
  {
   "cell_type": "code",
   "execution_count": 52,
   "source": [
    "# TRY PLOTTING THE HISTOGRAM FOR THE OTHER COLUMNS\r\n",
    "\r\n",
    "# HINT 1: You can use a for loop to plot the histogram for all the columns in one go.\r\n",
    "# HINT 2: The code, \"dataset.columns\" gives a list of the columns of the dataset. \r\n",
    "# HINT 3: The \"not in\" phrase can be used to find if an element is not present in a particular list.\r\n",
    "\r\n",
    "# START CODE HERE:\r\n",
    "cols = data.columns[1:]\r\n",
    "fig, ax = plt.subplots(3, 4, figsize = (12, 10), tight_layout = True)\r\n",
    "for i in range(len(ax)):\r\n",
    "    for j in range(len(ax[0])):\r\n",
    "        ax[i][j].hist(data[cols[i*len(ax[0])+j]])\r\n",
    "        ax[i][j].set_title(cols[i*len(ax[0])+j])\r\n",
    "\r\n",
    "\r\n",
    "# END CODE HERE"
   ],
   "outputs": [
    {
     "output_type": "display_data",
     "data": {
      "image/png": "[encoded data removed]",
      "text/plain": [
       "<Figure size 864x720 with 12 Axes>"
      ]
     },
     "metadata": {
      "needs_background": "light"
     }
    }
   ],
   "metadata": {
    "id": "dEy3_WsNWOI4"
   }
  },
  {
   "cell_type": "markdown",
   "source": [
    "## 5. CORRELATION OF DATA"
   ],
   "metadata": {
    "id": "Yd3WAjmsN4pB"
   }
  },
  {
   "cell_type": "code",
   "execution_count": 53,
   "source": [
    "# QUESTION 4: Find the column which has the highest negative correlation with the \"Price\" column. Write the column name \r\n",
    "#             and the aboslute value of the correlation (1 + 1 = 2 marks)\r\n",
    "#             eg: if correlation of A with B is -0.66 and correlation of A with C is -0.89 then the answer would be C and 0.89.\r\n",
    "#             Assign the column name to ans[3] and remember to put your answer inside inverted commas.\r\n",
    "#             Assign the correlation value to ans[4] and remember to write the absolute value i.e |x|.\r\n",
    "#             eg: ans[3] = \"Model\" if the answer is the Model column\r\n",
    "#             eg: ans[4] = 0.74 if the correlation value is -0.74. "
   ],
   "outputs": [],
   "metadata": {
    "id": "y4m_2Abhv6Dl"
   }
  },
  {
   "cell_type": "code",
   "execution_count": 54,
   "source": [
    "# START YOUR CODE HERE:\r\n",
    "cols = data.columns[1:]\r\n",
    "fig, ax = plt.subplots(3, 4, figsize = (16, 12), tight_layout = True)\r\n",
    "for i in range(len(ax)):\r\n",
    "    for j in range(len(ax[0])):\r\n",
    "        k = i*len(ax[0])+j\r\n",
    "        if(k >= len(cols)): break\r\n",
    "        ax[i][j].scatter(data[\"Price\"], data[cols[k]], label=\"Correlation: \"+str(pearsonr(data[\"Price\"], data[cols[k]])[0]))\r\n",
    "        ax[i][j].set_title(cols[k])\r\n",
    "        ax[i][j].legend(loc=\"best\")\r\n",
    "fig.suptitle(\"Scatter plots w.r.t Price\");\r\n",
    "\r\n",
    "\r\n",
    "# END CODE HERE"
   ],
   "outputs": [
    {
     "output_type": "display_data",
     "data": {
      "image/png": "[encoded data removed]",
      "text/plain": [
       "<Figure size 1152x864 with 12 Axes>"
      ]
     },
     "metadata": {
      "needs_background": "light"
     }
    }
   ],
   "metadata": {
    "id": "LKows3wDxpkQ"
   }
  },
  {
   "cell_type": "code",
   "execution_count": 75,
   "source": [
    "highest_corr = 1.0\r\n",
    "cols = data.columns[1:-1]\r\n",
    "for col in cols:\r\n",
    "    correlation = data[col].corr(data[\"Price\"])\r\n",
    "\r\n",
    "    if(correlation<highest_corr):\r\n",
    "        highest_corr = correlation\r\n",
    "        highest_corr_col = col\r\n",
    "\r\n",
    "print(\"Column name: \", highest_corr_col)   \r\n",
    "print(\"Highest correlation: \", abs(highest_corr))"
   ],
   "outputs": [
    {
     "output_type": "stream",
     "name": "stdout",
     "text": [
      "Column name:  Zoom wide (W)\n",
      "Highest correlation:  0.4591033999208591\n"
     ]
    }
   ],
   "metadata": {}
  },
  {
   "cell_type": "code",
   "execution_count": 76,
   "source": [
    "ans[3] = highest_corr_col\r\n",
    "ans[4] = abs(highest_corr)"
   ],
   "outputs": [],
   "metadata": {
    "id": "Z_iCmHqVxpq7"
   }
  },
  {
   "cell_type": "markdown",
   "source": [
    "## 5. DISTINCTIVE FEATURES"
   ],
   "metadata": {
    "id": "VNF8VghKOCzs"
   }
  },
  {
   "cell_type": "code",
   "execution_count": 56,
   "source": [
    "# QUESTION 5: Find the number of data points whose (a) price > 50 percentile mark AND (b) Release date > 50 percentile mark. (2 mark)\r\n",
    "#             NOTE: There are two conditions in the question above, both of which needs to be satisfied.\r\n",
    "#             Assign the answer to ans[5]."
   ],
   "outputs": [],
   "metadata": {
    "id": "HXtJO4USvaCQ"
   }
  },
  {
   "cell_type": "code",
   "execution_count": 57,
   "source": [
    "data.describe()[[\"Price\", \"Release date\"]]"
   ],
   "outputs": [
    {
     "output_type": "execute_result",
     "data": {
      "text/html": [
       "<div>\n",
       "<style scoped>\n",
       "    .dataframe tbody tr th:only-of-type {\n",
       "        vertical-align: middle;\n",
       "    }\n",
       "\n",
       "    .dataframe tbody tr th {\n",
       "        vertical-align: top;\n",
       "    }\n",
       "\n",
       "    .dataframe thead th {\n",
       "        text-align: right;\n",
       "    }\n",
       "</style>\n",
       "<table border=\"1\" class=\"dataframe\">\n",
       "  <thead>\n",
       "    <tr style=\"text-align: right;\">\n",
       "      <th></th>\n",
       "      <th>Price</th>\n",
       "      <th>Release date</th>\n",
       "    </tr>\n",
       "  </thead>\n",
       "  <tbody>\n",
       "    <tr>\n",
       "      <th>count</th>\n",
       "      <td>1036.000000</td>\n",
       "      <td>1036.000000</td>\n",
       "    </tr>\n",
       "    <tr>\n",
       "      <th>mean</th>\n",
       "      <td>457.921815</td>\n",
       "      <td>2003.584942</td>\n",
       "    </tr>\n",
       "    <tr>\n",
       "      <th>std</th>\n",
       "      <td>761.088735</td>\n",
       "      <td>2.724291</td>\n",
       "    </tr>\n",
       "    <tr>\n",
       "      <th>min</th>\n",
       "      <td>14.000000</td>\n",
       "      <td>1994.000000</td>\n",
       "    </tr>\n",
       "    <tr>\n",
       "      <th>25%</th>\n",
       "      <td>149.000000</td>\n",
       "      <td>2002.000000</td>\n",
       "    </tr>\n",
       "    <tr>\n",
       "      <th>50%</th>\n",
       "      <td>199.000000</td>\n",
       "      <td>2004.000000</td>\n",
       "    </tr>\n",
       "    <tr>\n",
       "      <th>75%</th>\n",
       "      <td>399.000000</td>\n",
       "      <td>2006.000000</td>\n",
       "    </tr>\n",
       "    <tr>\n",
       "      <th>max</th>\n",
       "      <td>7999.000000</td>\n",
       "      <td>2007.000000</td>\n",
       "    </tr>\n",
       "  </tbody>\n",
       "</table>\n",
       "</div>"
      ],
      "text/plain": [
       "             Price  Release date\n",
       "count  1036.000000   1036.000000\n",
       "mean    457.921815   2003.584942\n",
       "std     761.088735      2.724291\n",
       "min      14.000000   1994.000000\n",
       "25%     149.000000   2002.000000\n",
       "50%     199.000000   2004.000000\n",
       "75%     399.000000   2006.000000\n",
       "max    7999.000000   2007.000000"
      ]
     },
     "metadata": {},
     "execution_count": 57
    }
   ],
   "metadata": {}
  },
  {
   "cell_type": "code",
   "execution_count": 58,
   "source": [
    "# START YOUR CODE:\r\n",
    "\r\n",
    "temp = data[[\"Price\", \"Release date\"]].quantile(.5)\r\n",
    "df = data.loc[data[\"Release date\"]>temp[\"Release date\"]][data[\"Price\"]>temp[\"Price\"]]\r\n",
    "df.describe()[[\"Price\", \"Release date\"]]\r\n",
    "\r\n",
    "# END YOUR CODE"
   ],
   "outputs": [
    {
     "output_type": "execute_result",
     "data": {
      "text/html": [
       "<div>\n",
       "<style scoped>\n",
       "    .dataframe tbody tr th:only-of-type {\n",
       "        vertical-align: middle;\n",
       "    }\n",
       "\n",
       "    .dataframe tbody tr th {\n",
       "        vertical-align: top;\n",
       "    }\n",
       "\n",
       "    .dataframe thead th {\n",
       "        text-align: right;\n",
       "    }\n",
       "</style>\n",
       "<table border=\"1\" class=\"dataframe\">\n",
       "  <thead>\n",
       "    <tr style=\"text-align: right;\">\n",
       "      <th></th>\n",
       "      <th>Price</th>\n",
       "      <th>Release date</th>\n",
       "    </tr>\n",
       "  </thead>\n",
       "  <tbody>\n",
       "    <tr>\n",
       "      <th>count</th>\n",
       "      <td>220.000000</td>\n",
       "      <td>220.000000</td>\n",
       "    </tr>\n",
       "    <tr>\n",
       "      <th>mean</th>\n",
       "      <td>709.350000</td>\n",
       "      <td>2006.068182</td>\n",
       "    </tr>\n",
       "    <tr>\n",
       "      <th>std</th>\n",
       "      <td>968.577293</td>\n",
       "      <td>0.822007</td>\n",
       "    </tr>\n",
       "    <tr>\n",
       "      <th>min</th>\n",
       "      <td>229.000000</td>\n",
       "      <td>2005.000000</td>\n",
       "    </tr>\n",
       "    <tr>\n",
       "      <th>25%</th>\n",
       "      <td>249.000000</td>\n",
       "      <td>2005.000000</td>\n",
       "    </tr>\n",
       "    <tr>\n",
       "      <th>50%</th>\n",
       "      <td>399.000000</td>\n",
       "      <td>2006.000000</td>\n",
       "    </tr>\n",
       "    <tr>\n",
       "      <th>75%</th>\n",
       "      <td>509.000000</td>\n",
       "      <td>2007.000000</td>\n",
       "    </tr>\n",
       "    <tr>\n",
       "      <th>max</th>\n",
       "      <td>7999.000000</td>\n",
       "      <td>2007.000000</td>\n",
       "    </tr>\n",
       "  </tbody>\n",
       "</table>\n",
       "</div>"
      ],
      "text/plain": [
       "             Price  Release date\n",
       "count   220.000000    220.000000\n",
       "mean    709.350000   2006.068182\n",
       "std     968.577293      0.822007\n",
       "min     229.000000   2005.000000\n",
       "25%     249.000000   2005.000000\n",
       "50%     399.000000   2006.000000\n",
       "75%     509.000000   2007.000000\n",
       "max    7999.000000   2007.000000"
      ]
     },
     "metadata": {},
     "execution_count": 58
    }
   ],
   "metadata": {
    "id": "rL77HD3oqJGC"
   }
  },
  {
   "cell_type": "code",
   "execution_count": 59,
   "source": [
    "ans[5] = len(df)"
   ],
   "outputs": [],
   "metadata": {
    "id": "j2ITBEIqqNaJ"
   }
  },
  {
   "cell_type": "code",
   "execution_count": 60,
   "source": [
    "# Also try finding the no data points whose (a) price > 50 percentile mark AND (b) Release Date < 59 percentile mark. \r\n",
    "\r\n",
    "# Can you justify why \"Release date >/< 50 percentile mark\" is not a good distinctive feature?\r\n",
    "\r\n",
    "# Repeat the above steps with \"Release data >/< (a) 25 percentile mark (b) 75 percentile mark (c)mean.\r\n",
    "\r\n",
    "# Can you justify why \"Release date\" is not a good distinctive feature at all?"
   ],
   "outputs": [],
   "metadata": {
    "id": "Nl_CGOr1S2tz"
   }
  },
  {
   "cell_type": "code",
   "execution_count": 77,
   "source": [
    "# Price > 50%ile Release Date > 50%ile\r\n",
    "price_50 = data['Price'].quantile(0.5)\r\n",
    "release_date_50 = data['Release date'].quantile(0.5)\r\n",
    "data_distinctive_1 = data[(data['Price']>price_50) & (data['Release date']>release_date_50)]\r\n",
    "print(\"# Price > 50%ile Release Date > 50%ile : \",len(data_distinctive_1))\r\n",
    "\r\n",
    "# Price > 50%ile Release Date < 50%ile\r\n",
    "price_50 = data['Price'].quantile(0.5)\r\n",
    "release_date_50 = data['Release date'].quantile(0.5)\r\n",
    "data_distinctive_2 = data[(data['Price']>price_50) & (data['Release date']<release_date_50)]\r\n",
    "print(\"# Price > 50%ile Release Date < 50%ile : \",len(data_distinctive_2))\r\n",
    "\r\n",
    "# Price > 50%ile Release Date > 25%ile\r\n",
    "price_50 = data['Price'].quantile(0.5)\r\n",
    "release_date_25 = data['Release date'].quantile(0.25)\r\n",
    "data_distinctive_3 = data[(data['Price']>price_50) & (data['Release date']>release_date_25)]\r\n",
    "print(\"# Price > 50%ile Release Date > 25%ile : \",len(data_distinctive_3))\r\n",
    "\r\n",
    "# Price > 50%ile Release Date < 25%ile\r\n",
    "price_50 = data['Price'].quantile(0.5)\r\n",
    "release_date_25 = data['Release date'].quantile(0.25)\r\n",
    "data_distinctive_4 = data[(data['Price']>price_50) & (data['Release date']<release_date_25)]\r\n",
    "print(\"# Price > 50%ile Release Date < 25%ile : \",len(data_distinctive_4))\r\n",
    "\r\n",
    "# Price > 50%ile Release Date > 75%ile\r\n",
    "price_50 = data['Price'].quantile(0.5)\r\n",
    "release_date_75 = data['Release date'].quantile(0.75)\r\n",
    "data_distinctive_5 = data[(data['Price']>price_50) & (data['Release date']>release_date_75)]\r\n",
    "print(\"# Price > 50%ile Release Date > 75%ile : \",len(data_distinctive_5))\r\n",
    "\r\n",
    "# Price > 50%ile Release Date < 75%ile\r\n",
    "price_50 = data['Price'].quantile(0.5)\r\n",
    "release_date_75 = data['Release date'].quantile(0.75)\r\n",
    "data_distinctive_6 = data[(data['Price']>price_50) & (data['Release date']<release_date_75)]\r\n",
    "print(\"# Price > 50%ile Release Date < 75%ile : \",len(data_distinctive_6))\r\n",
    "\r\n",
    "# Price > 50%ile Release Date > mean\r\n",
    "price_50 = data['Price'].quantile(0.5)\r\n",
    "release_date_mean = data['Release date'].mean()\r\n",
    "data_distinctive_7 = data[(data['Price']>price_50) & (data['Release date']>release_date_mean)]\r\n",
    "print(\"# Price > 50%ile Release Date > mean : \",len(data_distinctive_7))\r\n",
    "\r\n",
    "# Price > 50%ile Release Date < mean\r\n",
    "price_50 = data['Price'].quantile(0.5)\r\n",
    "release_date_mean = data['Release date'].mean()\r\n",
    "data_distinctive_8 = data[(data['Price']>price_50) & (data['Release date']<release_date_mean)]\r\n",
    "print(\"# Price > 50%ile Release Date < mean : \",len(data_distinctive_8))"
   ],
   "outputs": [
    {
     "output_type": "stream",
     "name": "stdout",
     "text": [
      "# Price > 50%ile Release Date > 50%ile :  220\n",
      "# Price > 50%ile Release Date < 50%ile :  212\n",
      "# Price > 50%ile Release Date > 25%ile :  348\n",
      "# Price > 50%ile Release Date < 25%ile :  112\n",
      "# Price > 50%ile Release Date > 75%ile :  82\n",
      "# Price > 50%ile Release Date < 75%ile :  357\n",
      "# Price > 50%ile Release Date > mean :  298\n",
      "# Price > 50%ile Release Date < mean :  212\n"
     ]
    }
   ],
   "metadata": {}
  },
  {
   "cell_type": "markdown",
   "source": [
    "#### We can see that Release date >/< 50 percentile mark is not a good distinctive feature and in general Release Date is not a good distinctive feature at all"
   ],
   "metadata": {}
  },
  {
   "cell_type": "code",
   "execution_count": 61,
   "source": [
    "# QUESTION 6: Find the number of data points whose (a) price > 50 percentile mark AND (b) Weight (inc. batteries) > 75th percentile mark.(2 mark)\r\n",
    "#             NOTE: BOTH the conditions stated above need to be satisfied.\r\n",
    "#             Assign the answer to ans[6]."
   ],
   "outputs": [],
   "metadata": {
    "id": "QzrPzLgHXn77"
   }
  },
  {
   "cell_type": "code",
   "execution_count": 62,
   "source": [
    "data.describe()[[\"Price\", \"Weight (inc. batteries)\"]]"
   ],
   "outputs": [
    {
     "output_type": "execute_result",
     "data": {
      "text/html": [
       "<div>\n",
       "<style scoped>\n",
       "    .dataframe tbody tr th:only-of-type {\n",
       "        vertical-align: middle;\n",
       "    }\n",
       "\n",
       "    .dataframe tbody tr th {\n",
       "        vertical-align: top;\n",
       "    }\n",
       "\n",
       "    .dataframe thead th {\n",
       "        text-align: right;\n",
       "    }\n",
       "</style>\n",
       "<table border=\"1\" class=\"dataframe\">\n",
       "  <thead>\n",
       "    <tr style=\"text-align: right;\">\n",
       "      <th></th>\n",
       "      <th>Price</th>\n",
       "      <th>Weight (inc. batteries)</th>\n",
       "    </tr>\n",
       "  </thead>\n",
       "  <tbody>\n",
       "    <tr>\n",
       "      <th>count</th>\n",
       "      <td>1036.000000</td>\n",
       "      <td>1036.000000</td>\n",
       "    </tr>\n",
       "    <tr>\n",
       "      <th>mean</th>\n",
       "      <td>457.921815</td>\n",
       "      <td>319.265444</td>\n",
       "    </tr>\n",
       "    <tr>\n",
       "      <th>std</th>\n",
       "      <td>761.088735</td>\n",
       "      <td>260.410137</td>\n",
       "    </tr>\n",
       "    <tr>\n",
       "      <th>min</th>\n",
       "      <td>14.000000</td>\n",
       "      <td>0.000000</td>\n",
       "    </tr>\n",
       "    <tr>\n",
       "      <th>25%</th>\n",
       "      <td>149.000000</td>\n",
       "      <td>180.000000</td>\n",
       "    </tr>\n",
       "    <tr>\n",
       "      <th>50%</th>\n",
       "      <td>199.000000</td>\n",
       "      <td>226.000000</td>\n",
       "    </tr>\n",
       "    <tr>\n",
       "      <th>75%</th>\n",
       "      <td>399.000000</td>\n",
       "      <td>350.000000</td>\n",
       "    </tr>\n",
       "    <tr>\n",
       "      <th>max</th>\n",
       "      <td>7999.000000</td>\n",
       "      <td>1860.000000</td>\n",
       "    </tr>\n",
       "  </tbody>\n",
       "</table>\n",
       "</div>"
      ],
      "text/plain": [
       "             Price  Weight (inc. batteries)\n",
       "count  1036.000000              1036.000000\n",
       "mean    457.921815               319.265444\n",
       "std     761.088735               260.410137\n",
       "min      14.000000                 0.000000\n",
       "25%     149.000000               180.000000\n",
       "50%     199.000000               226.000000\n",
       "75%     399.000000               350.000000\n",
       "max    7999.000000              1860.000000"
      ]
     },
     "metadata": {},
     "execution_count": 62
    }
   ],
   "metadata": {}
  },
  {
   "cell_type": "code",
   "execution_count": 63,
   "source": [
    "# START YOUR CODE HERE:\r\n",
    "temp = data[[\"Price\", \"Weight (inc. batteries)\"]].quantile([.5, .75])\r\n",
    "df = data.loc[data[\"Price\"]>temp[\"Price\"][0.5]][data[\"Weight (inc. batteries)\"]>temp[\"Weight (inc. batteries)\"][0.75]]\r\n",
    "df[[\"Price\", \"Weight (inc. batteries)\"]].describe()\r\n",
    "\r\n",
    "# END YOUR CODE HERE"
   ],
   "outputs": [
    {
     "output_type": "execute_result",
     "data": {
      "text/html": [
       "<div>\n",
       "<style scoped>\n",
       "    .dataframe tbody tr th:only-of-type {\n",
       "        vertical-align: middle;\n",
       "    }\n",
       "\n",
       "    .dataframe tbody tr th {\n",
       "        vertical-align: top;\n",
       "    }\n",
       "\n",
       "    .dataframe thead th {\n",
       "        text-align: right;\n",
       "    }\n",
       "</style>\n",
       "<table border=\"1\" class=\"dataframe\">\n",
       "  <thead>\n",
       "    <tr style=\"text-align: right;\">\n",
       "      <th></th>\n",
       "      <th>Price</th>\n",
       "      <th>Weight (inc. batteries)</th>\n",
       "    </tr>\n",
       "  </thead>\n",
       "  <tbody>\n",
       "    <tr>\n",
       "      <th>count</th>\n",
       "      <td>165.000000</td>\n",
       "      <td>165.000000</td>\n",
       "    </tr>\n",
       "    <tr>\n",
       "      <th>mean</th>\n",
       "      <td>1250.181818</td>\n",
       "      <td>663.369697</td>\n",
       "    </tr>\n",
       "    <tr>\n",
       "      <th>std</th>\n",
       "      <td>1404.983279</td>\n",
       "      <td>284.258904</td>\n",
       "    </tr>\n",
       "    <tr>\n",
       "      <th>min</th>\n",
       "      <td>229.000000</td>\n",
       "      <td>360.000000</td>\n",
       "    </tr>\n",
       "    <tr>\n",
       "      <th>25%</th>\n",
       "      <td>399.000000</td>\n",
       "      <td>467.000000</td>\n",
       "    </tr>\n",
       "    <tr>\n",
       "      <th>50%</th>\n",
       "      <td>799.000000</td>\n",
       "      <td>590.000000</td>\n",
       "    </tr>\n",
       "    <tr>\n",
       "      <th>75%</th>\n",
       "      <td>1599.000000</td>\n",
       "      <td>770.000000</td>\n",
       "    </tr>\n",
       "    <tr>\n",
       "      <th>max</th>\n",
       "      <td>7999.000000</td>\n",
       "      <td>1585.000000</td>\n",
       "    </tr>\n",
       "  </tbody>\n",
       "</table>\n",
       "</div>"
      ],
      "text/plain": [
       "             Price  Weight (inc. batteries)\n",
       "count   165.000000               165.000000\n",
       "mean   1250.181818               663.369697\n",
       "std    1404.983279               284.258904\n",
       "min     229.000000               360.000000\n",
       "25%     399.000000               467.000000\n",
       "50%     799.000000               590.000000\n",
       "75%    1599.000000               770.000000\n",
       "max    7999.000000              1585.000000"
      ]
     },
     "metadata": {},
     "execution_count": 63
    }
   ],
   "metadata": {
    "id": "doYVbbB8KnqX"
   }
  },
  {
   "cell_type": "code",
   "execution_count": 64,
   "source": [
    "# WRITE YOUR ANSWER HERE BY SUBSTITUTING None WITH YOUR ANSWER\r\n",
    "\r\n",
    "ans[6] = len(df)       "
   ],
   "outputs": [],
   "metadata": {
    "id": "qsJy4JU1KsJ-"
   }
  },
  {
   "cell_type": "code",
   "execution_count": 65,
   "source": [
    "# Try the same with (a) price > 50 percentile mark AND (b) Weight (inc. batteries) < 75 percentile mark.\r\n",
    "# Can you justify whether Weight (inc. batteries) >/< 75 percentile mark is a good distinctive feature?\r\n",
    "# HINT: Weight (inc. batteries) > 75 percentile mark implies that price will be ?"
   ],
   "outputs": [],
   "metadata": {
    "id": "ZbcCa15yV2ec"
   }
  },
  {
   "cell_type": "code",
   "execution_count": 66,
   "source": [
    "print(\"Number of items with Weight (inc. batteries) > 75% mark: \", len(data[data[\"Weight (inc. batteries)\"]>temp[\"Weight (inc. batteries)\"][0.75]]))\r\n",
    "print(\"Total number of items\", len(data))\r\n",
    "print(\"since the division of items with above distinctive feature is not equipartition, so it's not a good distinctive feature\")"
   ],
   "outputs": [
    {
     "output_type": "stream",
     "name": "stdout",
     "text": [
      "Number of items with Weight (inc. batteries) > 75% mark:  253\n",
      "Total number of items 1036\n",
      "since the division of items with above distinctive feature is not equipartition, so it's not a good distinctive feature\n"
     ]
    }
   ],
   "metadata": {}
  },
  {
   "cell_type": "code",
   "execution_count": 67,
   "source": [
    "# TRY FITTING TWO LINEAR REGRESSION MODELS BY ONCE DROPPING THE FEATURE \"Weight (inc. batteries)\"\r\n",
    "# AND ONCE BY KEEPING ALL FEATURES. THEN COMPARE THE TRAINING/VALIDATION ACCURACY OF THE TWO\r\n",
    "# NOTE: A LINEAR REGRESSION MODEL HAS BEEN IMPLEMENTED FOR YOU IN THE CELL BELOW "
   ],
   "outputs": [],
   "metadata": {
    "id": "0sdSJhL2KHtb"
   }
  },
  {
   "cell_type": "code",
   "execution_count": 68,
   "source": [
    "# PRE IMPLEMENTED LINEAR REGRESSOR\r\n",
    "# CHANGE THIS CELL ONLY WHERE INDICATED!\r\n",
    "\r\n",
    "def implement_linear_reg():\r\n",
    "  # data_fs : Dataset from which you drop your most distinctive feature\r\n",
    "  # data :  The original Dataset with all features intact (except \"Model\" which we dropped earlier)\r\n",
    "  # X : the training features\r\n",
    "  # Y : the training label (the \"Price\" column)\r\n",
    "  # xtrain, xval : the training set and validation set respectively\r\n",
    "  # linreg : The linear regression model\r\n",
    "  \r\n",
    "  linreg = LinearRegression(fit_intercept = True, normalize = False)\r\n",
    "\r\n",
    "  data_fs = data.copy()              #Use data_fs as the dataset from where you drop the most distinctive feature. \r\n",
    "\r\n",
    "  # START YOUR CODE HERE:\r\n",
    "  \r\n",
    "  # You can write the column name enclosed within inverted commas inside the empty [] i.e eg: data_fs.drop(columns = [\"Model\"], inplace = True)\r\n",
    "  data_fs.drop(columns = [\"Model\", \"Weight (inc. batteries)\"], inplace = True)\r\n",
    "\r\n",
    "  # END YOUR CODE HERE\r\n",
    "  \r\n",
    "  Y = data[\"Price\"]\r\n",
    "  X = data.drop(columns = [\"Model\", \"Price\"])\r\n",
    "  xtrain, xval, ytrain, yval = train_test_split(X, Y, test_size = 100, random_state = 40)\r\n",
    "  \r\n",
    "  linreg.fit(xtrain, ytrain)\r\n",
    "  \r\n",
    "\r\n",
    "  print(\"\\n Train Accuracy of Linear Regression model with distinctive feature = \", linreg.score(xtrain, ytrain))\r\n",
    "  print(\"\\n Validation Accuracy of Linear Regression model with distinctive feature = \", linreg.score(xval, yval))\r\n",
    "  \r\n",
    "  Y = data_fs[\"Price\"]\r\n",
    "  X = data_fs.drop(columns = [\"Price\"])\r\n",
    "  xtrain, xval, ytrain, yval = train_test_split(X, Y, test_size = 100, random_state = 40)\r\n",
    "\r\n",
    "  linreg.fit(xtrain, ytrain)\r\n",
    "  print(\"\\n Train Accuracy of Linear Regression model without distinctive feature = \", linreg.score(xtrain, ytrain))\r\n",
    "  print(\"\\n Validation Accuracy of Linear Regression model without distinctive feature = \", linreg.score(xval, yval))\r\n",
    "\r\n",
    "\r\n",
    "implement_linear_reg()"
   ],
   "outputs": [
    {
     "output_type": "stream",
     "name": "stdout",
     "text": [
      "\n",
      " Train Accuracy of Linear Regression model with distinctive feature =  0.30824841336860254\n",
      "\n",
      " Validation Accuracy of Linear Regression model with distinctive feature =  0.17324036084797023\n",
      "\n",
      " Train Accuracy of Linear Regression model without distinctive feature =  0.26015598532272965\n",
      "\n",
      " Validation Accuracy of Linear Regression model without distinctive feature =  0.08807588276988398\n"
     ]
    }
   ],
   "metadata": {
    "id": "f8B7LuftM-gg"
   }
  },
  {
   "cell_type": "code",
   "execution_count": 69,
   "source": [
    "# RUN THE CODE BELOW TO GET YOUR ANSWERS EVALUATED.\r\n",
    "# DO NOT CHANGE THIS CELL!\r\n",
    "\r\n",
    "ans = [item for item in ans]\r\n",
    "with open(\"ans1.json\", \"w\") as f:\r\n",
    "  json.dump(ans, f)\r\n"
   ],
   "outputs": [],
   "metadata": {
    "id": "Wz3hndonyQqx"
   }
  },
  {
   "cell_type": "code",
   "execution_count": 70,
   "source": [
    "! ../submit ans.json"
   ],
   "outputs": [
    {
     "output_type": "stream",
     "name": "stderr",
     "text": [
      "'..' is not recognized as an internal or external command,\n",
      "operable program or batch file.\n"
     ]
    }
   ],
   "metadata": {
    "id": "ZvJAvjsNbPnW"
   }
  }
 ],
 "metadata": {
  "colab": {
   "authorship_tag": "ABX9TyPCE4RV1tHwHlcxxpq7fmS5",
   "collapsed_sections": [],
   "name": "unit7_Begin.ipynb",
   "provenance": []
  },
  "kernelspec": {
   "name": "python3",
   "display_name": "Python 3.8.10 64-bit (windows store)"
  },
  "language_info": {
   "codemirror_mode": {
    "name": "ipython",
    "version": 3
   },
   "file_extension": ".py",
   "mimetype": "text/x-python",
   "name": "python",
   "nbconvert_exporter": "python",
   "pygments_lexer": "ipython3",
   "version": "3.8.10"
  },
  "interpreter": {
   "hash": "5402f4e6f5ccfdb307864f8591a1b8f3786429e9057b8ed09fe1dd7f0856445e"
  }
 },
 "nbformat": 4,
 "nbformat_minor": 1
}