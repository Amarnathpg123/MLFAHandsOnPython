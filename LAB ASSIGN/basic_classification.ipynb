{
  "nbformat": 4,
  "nbformat_minor": 2,
  "metadata": {
    "colab": {
      "name": "unit6_Begin.ipynb",
      "provenance": [],
      "collapsed_sections": []
    },
    "kernelspec": {
      "name": "python3",
      "display_name": "Python 3.8.10 64-bit (windows store)"
    },
    "language_info": {
      "codemirror_mode": {
        "name": "ipython",
        "version": 3
      },
      "file_extension": ".py",
      "mimetype": "text/x-python",
      "name": "python",
      "nbconvert_exporter": "python",
      "pygments_lexer": "ipython3",
      "version": "3.8.10"
    },
    "interpreter": {
      "hash": "5402f4e6f5ccfdb307864f8591a1b8f3786429e9057b8ed09fe1dd7f0856445e"
    }
  },
  "cells": [
    {
      "cell_type": "markdown",
      "source": [
        "# **TUTORIAL 6**\n",
        "# Distance Based Classification"
      ],
      "metadata": {
        "id": "6y8zrasK0r2Y"
      }
    },
    {
      "cell_type": "markdown",
      "source": [
        "In pattern recognition, the k-nearest neighbors algorithm is a non-parametric method used for classification and regression.It belongs to the supervised learning domain.\n",
        "\n",
        "We will understand it with a practice example, Steps we are going to follow are :\n",
        "\n",
        "1) Import important libraries\n",
        "\n",
        "2) Importing Data\n",
        "\n",
        "3) Encoding\n",
        "\n",
        "4)Training and Test Data\n",
        "\n",
        "5) Visualization of Data\n",
        "\n",
        "6) Nearest Neighbour Classifier\n",
        "\n",
        "7) k Nearest Neighbour\n",
        "\n",
        "8) Nearest Mean Classifier\n",
        "\n",
        "9) Compare Results\n",
        "\n",
        "10) sklearn Library\n",
        "\n",
        "---\n",
        "\n",
        "\n",
        "\n",
        "---\n",
        "\n"
      ],
      "metadata": {
        "id": "eVEW-aBo4gka"
      }
    },
    {
      "cell_type": "markdown",
      "source": [
        "**1) Importing important libraries**"
      ],
      "metadata": {
        "id": "uHdX_UCj8QVO"
      }
    },
    {
      "cell_type": "code",
      "execution_count": 1,
      "source": [
        "import pandas as pd\r\n",
        "import matplotlib.pyplot as plt\r\n",
        "import numpy as np\r\n",
        "from sklearn.datasets import load_iris\r\n",
        "import json\r\n",
        "\r\n",
        "%matplotlib inline"
      ],
      "outputs": [],
      "metadata": {
        "id": "Ca48WZPe853i"
      }
    },
    {
      "cell_type": "markdown",
      "source": [
        "**2) Importing Data**\n",
        "\n",
        "We will be working on the Iris dataset today."
      ],
      "metadata": {
        "id": "Q3ajjX6OI8HC"
      }
    },
    {
      "cell_type": "code",
      "execution_count": 2,
      "source": [
        "data = load_iris()\r\n",
        "df = pd.DataFrame(data.data, columns=data.feature_names)\r\n",
        "df['Species']=data.target "
      ],
      "outputs": [],
      "metadata": {
        "id": "JVB0atL7Io6K"
      }
    },
    {
      "cell_type": "code",
      "execution_count": 3,
      "source": [
        "df.head()"
      ],
      "outputs": [
        {
          "output_type": "execute_result",
          "data": {
            "text/html": [
              "<div>\n",
              "<style scoped>\n",
              "    .dataframe tbody tr th:only-of-type {\n",
              "        vertical-align: middle;\n",
              "    }\n",
              "\n",
              "    .dataframe tbody tr th {\n",
              "        vertical-align: top;\n",
              "    }\n",
              "\n",
              "    .dataframe thead th {\n",
              "        text-align: right;\n",
              "    }\n",
              "</style>\n",
              "<table border=\"1\" class=\"dataframe\">\n",
              "  <thead>\n",
              "    <tr style=\"text-align: right;\">\n",
              "      <th></th>\n",
              "      <th>sepal length (cm)</th>\n",
              "      <th>sepal width (cm)</th>\n",
              "      <th>petal length (cm)</th>\n",
              "      <th>petal width (cm)</th>\n",
              "      <th>Species</th>\n",
              "    </tr>\n",
              "  </thead>\n",
              "  <tbody>\n",
              "    <tr>\n",
              "      <th>0</th>\n",
              "      <td>5.1</td>\n",
              "      <td>3.5</td>\n",
              "      <td>1.4</td>\n",
              "      <td>0.2</td>\n",
              "      <td>0</td>\n",
              "    </tr>\n",
              "    <tr>\n",
              "      <th>1</th>\n",
              "      <td>4.9</td>\n",
              "      <td>3.0</td>\n",
              "      <td>1.4</td>\n",
              "      <td>0.2</td>\n",
              "      <td>0</td>\n",
              "    </tr>\n",
              "    <tr>\n",
              "      <th>2</th>\n",
              "      <td>4.7</td>\n",
              "      <td>3.2</td>\n",
              "      <td>1.3</td>\n",
              "      <td>0.2</td>\n",
              "      <td>0</td>\n",
              "    </tr>\n",
              "    <tr>\n",
              "      <th>3</th>\n",
              "      <td>4.6</td>\n",
              "      <td>3.1</td>\n",
              "      <td>1.5</td>\n",
              "      <td>0.2</td>\n",
              "      <td>0</td>\n",
              "    </tr>\n",
              "    <tr>\n",
              "      <th>4</th>\n",
              "      <td>5.0</td>\n",
              "      <td>3.6</td>\n",
              "      <td>1.4</td>\n",
              "      <td>0.2</td>\n",
              "      <td>0</td>\n",
              "    </tr>\n",
              "  </tbody>\n",
              "</table>\n",
              "</div>"
            ],
            "text/plain": [
              "   sepal length (cm)  sepal width (cm)  petal length (cm)  petal width (cm)  \\\n",
              "0                5.1               3.5                1.4               0.2   \n",
              "1                4.9               3.0                1.4               0.2   \n",
              "2                4.7               3.2                1.3               0.2   \n",
              "3                4.6               3.1                1.5               0.2   \n",
              "4                5.0               3.6                1.4               0.2   \n",
              "\n",
              "   Species  \n",
              "0        0  \n",
              "1        0  \n",
              "2        0  \n",
              "3        0  \n",
              "4        0  "
            ]
          },
          "metadata": {},
          "execution_count": 3
        }
      ],
      "metadata": {
        "colab": {
          "base_uri": "https://localhost:8080/",
          "height": 204
        },
        "id": "XMn096JBRGm2",
        "outputId": "0bcbc57e-acb7-46ae-876e-e624f4d0b8b7"
      }
    },
    {
      "cell_type": "markdown",
      "source": [
        "We will be taking 2 features, 'SepalLengthCm' and 'PetalWidthCm' for classification for easier visualization."
      ],
      "metadata": {
        "id": "y5S6-mpvKJD-"
      }
    },
    {
      "cell_type": "code",
      "execution_count": 4,
      "source": [
        "print(df.columns)\r\n",
        "print(\"Shape: \", df.shape)"
      ],
      "outputs": [
        {
          "output_type": "stream",
          "name": "stdout",
          "text": [
            "Index(['sepal length (cm)', 'sepal width (cm)', 'petal length (cm)',\n",
            "       'petal width (cm)', 'Species'],\n",
            "      dtype='object')\n",
            "Shape:  (150, 5)\n"
          ]
        }
      ],
      "metadata": {
        "colab": {
          "base_uri": "https://localhost:8080/"
        },
        "id": "e2YADb5PgMLL",
        "outputId": "c7444e5b-71e9-4d0b-eac5-9c63ae04a39f"
      }
    },
    {
      "cell_type": "code",
      "execution_count": 5,
      "source": [
        "df.isnull().sum()"
      ],
      "outputs": [
        {
          "output_type": "execute_result",
          "data": {
            "text/plain": [
              "sepal length (cm)    0\n",
              "sepal width (cm)     0\n",
              "petal length (cm)    0\n",
              "petal width (cm)     0\n",
              "Species              0\n",
              "dtype: int64"
            ]
          },
          "metadata": {},
          "execution_count": 5
        }
      ],
      "metadata": {
        "colab": {
          "base_uri": "https://localhost:8080/"
        },
        "id": "1nUEBbEngMLN",
        "outputId": "de9a1b49-4f22-4628-a133-ef07a6b9916d"
      }
    },
    {
      "cell_type": "code",
      "execution_count": 6,
      "source": [
        "# Write the code to choose columns 'SepalLengthCm', 'PetalWidthCm' and 'Species' from the dataframe 'df',\r\n",
        "# Make a new dataframe 'df_new' and assign the three columns to the new dataframe."
      ],
      "outputs": [],
      "metadata": {
        "id": "vHbH9RWSRPJ6"
      }
    },
    {
      "cell_type": "code",
      "execution_count": 7,
      "source": [
        "#Write the code below\r\n",
        "\r\n",
        "df_new = df[[\"sepal length (cm)\", \"petal width (cm)\", \"Species\"]]"
      ],
      "outputs": [],
      "metadata": {
        "id": "tXXGJrPwRRba"
      }
    },
    {
      "cell_type": "code",
      "execution_count": 8,
      "source": [
        "df_new.head()"
      ],
      "outputs": [
        {
          "output_type": "execute_result",
          "data": {
            "text/html": [
              "<div>\n",
              "<style scoped>\n",
              "    .dataframe tbody tr th:only-of-type {\n",
              "        vertical-align: middle;\n",
              "    }\n",
              "\n",
              "    .dataframe tbody tr th {\n",
              "        vertical-align: top;\n",
              "    }\n",
              "\n",
              "    .dataframe thead th {\n",
              "        text-align: right;\n",
              "    }\n",
              "</style>\n",
              "<table border=\"1\" class=\"dataframe\">\n",
              "  <thead>\n",
              "    <tr style=\"text-align: right;\">\n",
              "      <th></th>\n",
              "      <th>sepal length (cm)</th>\n",
              "      <th>petal width (cm)</th>\n",
              "      <th>Species</th>\n",
              "    </tr>\n",
              "  </thead>\n",
              "  <tbody>\n",
              "    <tr>\n",
              "      <th>0</th>\n",
              "      <td>5.1</td>\n",
              "      <td>0.2</td>\n",
              "      <td>0</td>\n",
              "    </tr>\n",
              "    <tr>\n",
              "      <th>1</th>\n",
              "      <td>4.9</td>\n",
              "      <td>0.2</td>\n",
              "      <td>0</td>\n",
              "    </tr>\n",
              "    <tr>\n",
              "      <th>2</th>\n",
              "      <td>4.7</td>\n",
              "      <td>0.2</td>\n",
              "      <td>0</td>\n",
              "    </tr>\n",
              "    <tr>\n",
              "      <th>3</th>\n",
              "      <td>4.6</td>\n",
              "      <td>0.2</td>\n",
              "      <td>0</td>\n",
              "    </tr>\n",
              "    <tr>\n",
              "      <th>4</th>\n",
              "      <td>5.0</td>\n",
              "      <td>0.2</td>\n",
              "      <td>0</td>\n",
              "    </tr>\n",
              "  </tbody>\n",
              "</table>\n",
              "</div>"
            ],
            "text/plain": [
              "   sepal length (cm)  petal width (cm)  Species\n",
              "0                5.1               0.2        0\n",
              "1                4.9               0.2        0\n",
              "2                4.7               0.2        0\n",
              "3                4.6               0.2        0\n",
              "4                5.0               0.2        0"
            ]
          },
          "metadata": {},
          "execution_count": 8
        }
      ],
      "metadata": {
        "id": "aIZ6OtoqZi-m",
        "colab": {
          "base_uri": "https://localhost:8080/",
          "height": 204
        },
        "outputId": "048a8f83-025e-48a8-8e3a-aad2bdc43418"
      }
    },
    {
      "cell_type": "code",
      "execution_count": 9,
      "source": [
        "df_new.describe()   "
      ],
      "outputs": [
        {
          "output_type": "execute_result",
          "data": {
            "text/html": [
              "<div>\n",
              "<style scoped>\n",
              "    .dataframe tbody tr th:only-of-type {\n",
              "        vertical-align: middle;\n",
              "    }\n",
              "\n",
              "    .dataframe tbody tr th {\n",
              "        vertical-align: top;\n",
              "    }\n",
              "\n",
              "    .dataframe thead th {\n",
              "        text-align: right;\n",
              "    }\n",
              "</style>\n",
              "<table border=\"1\" class=\"dataframe\">\n",
              "  <thead>\n",
              "    <tr style=\"text-align: right;\">\n",
              "      <th></th>\n",
              "      <th>sepal length (cm)</th>\n",
              "      <th>petal width (cm)</th>\n",
              "      <th>Species</th>\n",
              "    </tr>\n",
              "  </thead>\n",
              "  <tbody>\n",
              "    <tr>\n",
              "      <th>count</th>\n",
              "      <td>150.000000</td>\n",
              "      <td>150.000000</td>\n",
              "      <td>150.000000</td>\n",
              "    </tr>\n",
              "    <tr>\n",
              "      <th>mean</th>\n",
              "      <td>5.843333</td>\n",
              "      <td>1.199333</td>\n",
              "      <td>1.000000</td>\n",
              "    </tr>\n",
              "    <tr>\n",
              "      <th>std</th>\n",
              "      <td>0.828066</td>\n",
              "      <td>0.762238</td>\n",
              "      <td>0.819232</td>\n",
              "    </tr>\n",
              "    <tr>\n",
              "      <th>min</th>\n",
              "      <td>4.300000</td>\n",
              "      <td>0.100000</td>\n",
              "      <td>0.000000</td>\n",
              "    </tr>\n",
              "    <tr>\n",
              "      <th>25%</th>\n",
              "      <td>5.100000</td>\n",
              "      <td>0.300000</td>\n",
              "      <td>0.000000</td>\n",
              "    </tr>\n",
              "    <tr>\n",
              "      <th>50%</th>\n",
              "      <td>5.800000</td>\n",
              "      <td>1.300000</td>\n",
              "      <td>1.000000</td>\n",
              "    </tr>\n",
              "    <tr>\n",
              "      <th>75%</th>\n",
              "      <td>6.400000</td>\n",
              "      <td>1.800000</td>\n",
              "      <td>2.000000</td>\n",
              "    </tr>\n",
              "    <tr>\n",
              "      <th>max</th>\n",
              "      <td>7.900000</td>\n",
              "      <td>2.500000</td>\n",
              "      <td>2.000000</td>\n",
              "    </tr>\n",
              "  </tbody>\n",
              "</table>\n",
              "</div>"
            ],
            "text/plain": [
              "       sepal length (cm)  petal width (cm)     Species\n",
              "count         150.000000        150.000000  150.000000\n",
              "mean            5.843333          1.199333    1.000000\n",
              "std             0.828066          0.762238    0.819232\n",
              "min             4.300000          0.100000    0.000000\n",
              "25%             5.100000          0.300000    0.000000\n",
              "50%             5.800000          1.300000    1.000000\n",
              "75%             6.400000          1.800000    2.000000\n",
              "max             7.900000          2.500000    2.000000"
            ]
          },
          "metadata": {},
          "execution_count": 9
        }
      ],
      "metadata": {
        "colab": {
          "base_uri": "https://localhost:8080/",
          "height": 297
        },
        "id": "kqUL0b5BgMLP",
        "outputId": "42f84432-5c41-4159-f469-897b64e9d371"
      }
    },
    {
      "cell_type": "code",
      "execution_count": 10,
      "source": [
        "df_new[\"Species\"].value_counts()"
      ],
      "outputs": [
        {
          "output_type": "execute_result",
          "data": {
            "text/plain": [
              "0    50\n",
              "1    50\n",
              "2    50\n",
              "Name: Species, dtype: int64"
            ]
          },
          "metadata": {},
          "execution_count": 10
        }
      ],
      "metadata": {
        "colab": {
          "base_uri": "https://localhost:8080/"
        },
        "id": "FhLUuU7ogMLQ",
        "outputId": "16778a95-72dd-4cb4-d2a2-051137c38454"
      }
    },
    {
      "cell_type": "markdown",
      "source": [
        "**3) Encoding**\n",
        "\n",
        "Now we will use Label Encoder to Encode the 'Species' column in numeric. For eg - the species Iris-setosa is encoded as 0, Iris-virginica as 2 and so on."
      ],
      "metadata": {
        "id": "_z09_vfkKw7K"
      }
    },
    {
      "cell_type": "code",
      "execution_count": 11,
      "source": [
        "# Do not make changes in this cell\r\n",
        "# Simply execute it and move on\r\n",
        "from sklearn.preprocessing import LabelEncoder\r\n",
        "labelencoder_Species = LabelEncoder()\r\n",
        "df_new['Species_encoded'] = labelencoder_Species.fit_transform(df_new['Species'])\r\n",
        "df_new.head()"
      ],
      "outputs": [
        {
          "output_type": "stream",
          "name": "stderr",
          "text": [
            "<ipython-input-11-231c5bd0d9b9>:5: SettingWithCopyWarning: \n",
            "A value is trying to be set on a copy of a slice from a DataFrame.\n",
            "Try using .loc[row_indexer,col_indexer] = value instead\n",
            "\n",
            "See the caveats in the documentation: https://pandas.pydata.org/pandas-docs/stable/user_guide/indexing.html#returning-a-view-versus-a-copy\n",
            "  df_new['Species_encoded'] = labelencoder_Species.fit_transform(df_new['Species'])\n"
          ]
        },
        {
          "output_type": "execute_result",
          "data": {
            "text/html": [
              "<div>\n",
              "<style scoped>\n",
              "    .dataframe tbody tr th:only-of-type {\n",
              "        vertical-align: middle;\n",
              "    }\n",
              "\n",
              "    .dataframe tbody tr th {\n",
              "        vertical-align: top;\n",
              "    }\n",
              "\n",
              "    .dataframe thead th {\n",
              "        text-align: right;\n",
              "    }\n",
              "</style>\n",
              "<table border=\"1\" class=\"dataframe\">\n",
              "  <thead>\n",
              "    <tr style=\"text-align: right;\">\n",
              "      <th></th>\n",
              "      <th>sepal length (cm)</th>\n",
              "      <th>petal width (cm)</th>\n",
              "      <th>Species</th>\n",
              "      <th>Species_encoded</th>\n",
              "    </tr>\n",
              "  </thead>\n",
              "  <tbody>\n",
              "    <tr>\n",
              "      <th>0</th>\n",
              "      <td>5.1</td>\n",
              "      <td>0.2</td>\n",
              "      <td>0</td>\n",
              "      <td>0</td>\n",
              "    </tr>\n",
              "    <tr>\n",
              "      <th>1</th>\n",
              "      <td>4.9</td>\n",
              "      <td>0.2</td>\n",
              "      <td>0</td>\n",
              "      <td>0</td>\n",
              "    </tr>\n",
              "    <tr>\n",
              "      <th>2</th>\n",
              "      <td>4.7</td>\n",
              "      <td>0.2</td>\n",
              "      <td>0</td>\n",
              "      <td>0</td>\n",
              "    </tr>\n",
              "    <tr>\n",
              "      <th>3</th>\n",
              "      <td>4.6</td>\n",
              "      <td>0.2</td>\n",
              "      <td>0</td>\n",
              "      <td>0</td>\n",
              "    </tr>\n",
              "    <tr>\n",
              "      <th>4</th>\n",
              "      <td>5.0</td>\n",
              "      <td>0.2</td>\n",
              "      <td>0</td>\n",
              "      <td>0</td>\n",
              "    </tr>\n",
              "  </tbody>\n",
              "</table>\n",
              "</div>"
            ],
            "text/plain": [
              "   sepal length (cm)  petal width (cm)  Species  Species_encoded\n",
              "0                5.1               0.2        0                0\n",
              "1                4.9               0.2        0                0\n",
              "2                4.7               0.2        0                0\n",
              "3                4.6               0.2        0                0\n",
              "4                5.0               0.2        0                0"
            ]
          },
          "metadata": {},
          "execution_count": 11
        }
      ],
      "metadata": {
        "id": "WSa4ils9AuE_",
        "colab": {
          "base_uri": "https://localhost:8080/",
          "height": 306
        },
        "outputId": "3fe6014c-cd84-4352-8afc-ecbbb06f6728"
      }
    },
    {
      "cell_type": "markdown",
      "source": [
        "We break this into X (features - 'SepalLengthCm' and 'PetalWidthCm') and y (output which is 'Species_encoded')."
      ],
      "metadata": {
        "id": "4VEK-uUqcp_d"
      }
    },
    {
      "cell_type": "code",
      "execution_count": 12,
      "source": [
        "df_new[\"Species_encoded\"].unique()"
      ],
      "outputs": [
        {
          "output_type": "execute_result",
          "data": {
            "text/plain": [
              "array([0, 1, 2], dtype=int64)"
            ]
          },
          "metadata": {},
          "execution_count": 12
        }
      ],
      "metadata": {
        "colab": {
          "base_uri": "https://localhost:8080/"
        },
        "id": "azHxSAZvgMLR",
        "outputId": "1ea9afb7-3f5d-44ef-80dc-c4be6bb7d6ca"
      }
    },
    {
      "cell_type": "code",
      "execution_count": 13,
      "source": [
        "# a)Write the code to choose columns 'SepalLengthCm' and 'PetalWidthCm' from the dataframe 'df_new',\r\n",
        "# and assign it to the new dataframe X.\r\n",
        "# b)Write the code to choose columns 'Species_encoded' from the dataframe 'df_new',\r\n",
        "# and assign it to the new dataframe y."
      ],
      "outputs": [],
      "metadata": {
        "id": "VAAz8OaHRclS"
      }
    },
    {
      "cell_type": "code",
      "execution_count": 14,
      "source": [
        "#Write the code below\r\n",
        "\r\n",
        "X = df_new[[\"sepal length (cm)\", \"petal width (cm)\"]]\r\n",
        "y = df_new[\"Species_encoded\"]"
      ],
      "outputs": [],
      "metadata": {
        "id": "T5bmRGCpczjQ"
      }
    },
    {
      "cell_type": "markdown",
      "source": [
        "**4) Training and Test data**\n",
        "\n",
        "We will divide the dataset into training and test dataset to see the accuracy of each of the algorithms that we use :"
      ],
      "metadata": {
        "id": "UD6bhJszb3iT"
      }
    },
    {
      "cell_type": "code",
      "execution_count": 15,
      "source": [
        "from sklearn.model_selection import train_test_split"
      ],
      "outputs": [],
      "metadata": {
        "id": "DeSGoSC9cGRT"
      }
    },
    {
      "cell_type": "code",
      "execution_count": 16,
      "source": [
        "# Split the dataset into 60% training and 40% test set\r\n",
        "# NOTE:- take random_state = 3\r\n",
        "# Take the variables as X_train, X_test, y_train and y_test"
      ],
      "outputs": [],
      "metadata": {
        "id": "LMjKEmUeR52D"
      }
    },
    {
      "cell_type": "code",
      "execution_count": 17,
      "source": [
        "#Write the code below\r\n",
        "X_train, X_test, y_train, y_test = train_test_split(X, y, test_size=0.4, random_state=3)\r\n"
      ],
      "outputs": [],
      "metadata": {
        "id": "mwVZl5JaR-AW"
      }
    },
    {
      "cell_type": "code",
      "execution_count": 18,
      "source": [
        "X_train.reset_index(drop=True, inplace=True)\r\n",
        "y_train.reset_index(drop=True, inplace=True)\r\n",
        "X_test.reset_index(drop=True, inplace=True)\r\n",
        "y_test.reset_index(drop=True, inplace=True)"
      ],
      "outputs": [],
      "metadata": {}
    },
    {
      "cell_type": "markdown",
      "source": [
        "We can check the different types of species in the dataset using the unique function :"
      ],
      "metadata": {
        "id": "VyTaNLqLVFyG"
      }
    },
    {
      "cell_type": "code",
      "execution_count": 19,
      "source": [
        "df_new['Species'].unique()"
      ],
      "outputs": [
        {
          "output_type": "execute_result",
          "data": {
            "text/plain": [
              "array([0, 1, 2])"
            ]
          },
          "metadata": {},
          "execution_count": 19
        }
      ],
      "metadata": {
        "id": "hasTtJ29ThOc",
        "colab": {
          "base_uri": "https://localhost:8080/"
        },
        "outputId": "f39cf13d-f96e-40ac-c18c-f7cefb7615fa"
      }
    },
    {
      "cell_type": "markdown",
      "source": [
        "**5) Visualization of data**\n",
        "\n",
        "Now we will plot the two features on the x and y axis and plot the data with different colour according to the species. "
      ],
      "metadata": {
        "id": "PDfX6CHYLvnx"
      }
    },
    {
      "cell_type": "code",
      "execution_count": 20,
      "source": [
        "# Write the code to create datasets according to the different categories of the species from the training set of features\r\n",
        "# and assign it to the new dataframes setosa, versicolor and virginica."
      ],
      "outputs": [],
      "metadata": {
        "id": "I6NKSRxAb91F"
      }
    },
    {
      "cell_type": "code",
      "execution_count": 21,
      "source": [
        "#Create datasets according to the category\r\n",
        "#For the species setosa           \r\n",
        "setosa = X_train.loc[y_train.index[y_train == 0], :]\r\n",
        "#For the species versicolor          \r\n",
        "versicolor = X_train.loc[y_train.index[y_train == 1], :]\r\n",
        "#For the species virginica   \r\n",
        "virginica = X_train.loc[y_train.index[y_train == 2], :]\r\n",
        "\r\n",
        "#assuming setosa --> label 0;  versicolor --> label 1;  virginica  --> label 2"
      ],
      "outputs": [],
      "metadata": {
        "id": "r-by0adGLl04"
      }
    },
    {
      "cell_type": "code",
      "execution_count": 22,
      "source": [
        "#Plot the data categorywise using scatter plot and visualize the data. Also include labels and legend.\r\n",
        "#Write the code below\r\n",
        "\r\n",
        "fig = plt.figure(figsize=(10,7))\r\n",
        "plt.scatter(setosa.iloc[:,0], setosa.iloc[:,1], color='red', label=\"setosa\")\r\n",
        "plt.scatter(versicolor.iloc[:,0], versicolor.iloc[:,1], color='green', label=\"versicolor\")\r\n",
        "plt.scatter(virginica.iloc[:,0], virginica.iloc[:,1], color='blue', label=\"virginica\")\r\n",
        "\r\n",
        "plt.xlabel(\"sepal length (cm)  ---->\")\r\n",
        "plt.ylabel(\"petal width (cm)  ---->\")\r\n",
        "plt.title(\"Scatter plots of the X_train (category wise)\")\r\n",
        "plt.legend(loc='upper left')\r\n",
        "plt.grid(1)\r\n",
        "plt.show()"
      ],
      "outputs": [
        {
          "output_type": "display_data",
          "data": {
            "image/png": "[encoded data removed]",
            "text/plain": [
              "<Figure size 720x504 with 1 Axes>"
            ]
          },
          "metadata": {
            "needs_background": "light"
          }
        }
      ],
      "metadata": {
        "id": "NA6hvqRpuqFL",
        "colab": {
          "base_uri": "https://localhost:8080/",
          "height": 458
        },
        "outputId": "6445674c-fdc7-4a6d-eafd-1115f54c2f8c"
      }
    },
    {
      "cell_type": "markdown",
      "source": [
        "Let us import the time library to compare the timing of the 3 methods :"
      ],
      "metadata": {
        "id": "jivimtxl04D5"
      }
    },
    {
      "cell_type": "code",
      "execution_count": 23,
      "source": [
        "import time"
      ],
      "outputs": [],
      "metadata": {
        "id": "2qSpXy1f09dl"
      }
    },
    {
      "cell_type": "markdown",
      "source": [
        "**6) Nearest Neighbour Classifier**\n",
        "\n"
      ],
      "metadata": {
        "id": "cITcO7SbZWcw"
      }
    },
    {
      "cell_type": "code",
      "execution_count": 24,
      "source": [
        "# Question 1) Write the algorithm for nearest neighbour classifier as learnt in the theory\r\n",
        "#             Assign the answer to ans[0] after converting the output of the method to tuple "
      ],
      "outputs": [],
      "metadata": {
        "id": "stPr8k--gcke"
      }
    },
    {
      "cell_type": "code",
      "execution_count": 25,
      "source": [
        "# Algorithm - Calculate the Euclidian distance for each test dataset by comparing with every trainig dataset and assign it to the variable 'val'\r\n",
        "#            The prediciton is the minimum value obtained from all the Euclidian distance calculated for that test datapoint\r\n",
        "# Assign the y_predict to ans[0] as a tuple => (0,1,0,2, and so on) "
      ],
      "outputs": [],
      "metadata": {
        "id": "Hztil8AURSgo"
      }
    },
    {
      "cell_type": "code",
      "execution_count": 26,
      "source": [
        "def euclidDistance(a, b):\r\n",
        "    assert len(a) == len(b), \"Make sure the points are in same dimension\"\r\n",
        "    dis = 0\r\n",
        "    for i in range(len(a)):\r\n",
        "        dis += (a[i]-b[i])*(a[i]-b[i])\r\n",
        "    dis = np.sqrt(dis)\r\n",
        "    return dis"
      ],
      "outputs": [],
      "metadata": {}
    },
    {
      "cell_type": "code",
      "execution_count": 27,
      "source": [
        "def KNN(inputs, labels, K, x):\r\n",
        "    distances = [(euclidDistance(inputs.loc[i].values,x), i) for i in inputs.index]\r\n",
        "    distances.sort()\r\n",
        "\r\n",
        "    idx = 0\r\n",
        "    k = 1\r\n",
        "    cur_dis = distances[0][0]\r\n",
        "    count_setosa, count_versicolor, count_virginica = (0,0,0) \r\n",
        "    while (idx < len(distances)): #and (count_setosa == count_versicolor or count_setosa == count_virginica or count_versicolor == count_virginica)):\r\n",
        "        while (cur_dis == distances[idx][0]):\r\n",
        "            if (labels[distances[idx][1]] == 0): count_setosa += 1\r\n",
        "            elif (labels[distances[idx][1]] == 1): count_versicolor += 1\r\n",
        "            elif (labels[distances[idx][1]] == 2): count_virginica += 1\r\n",
        "            idx += 1\r\n",
        "            k += 1\r\n",
        "        if (k > K): break\r\n",
        "        cur_dis = distances[idx][0]\r\n",
        "\r\n",
        "    temp = [count_setosa, count_versicolor, count_virginica]   #according to label values\r\n",
        "    return temp.index(max(temp))"
      ],
      "outputs": [],
      "metadata": {
        "id": "o90m8xJ4uNPK"
      }
    },
    {
      "cell_type": "code",
      "execution_count": 28,
      "source": [
        "ans = [None] * 10\r\n",
        "start_time = time.time()                          # Starting the runtime for this cell\r\n",
        "y_predict = []                                    # Predicted values of y will be stored\r\n",
        "#Write the code below\r\n",
        "y_predict = [KNN(X_train, y_train, 1, X_test.loc[i].values) for i in X_test.index]\r\n",
        "\r\n",
        "# 1 mark\r\n",
        "ans[0] = tuple (y_predict)\r\n",
        "ans[0] = str(ans[0])\r\n",
        "time_NN = time.time() - start_time    # Final time taken"
      ],
      "outputs": [],
      "metadata": {
        "id": "KGVnniI3uJpH"
      }
    },
    {
      "cell_type": "code",
      "execution_count": 81,
      "source": [
        "ans[0]"
      ],
      "outputs": [
        {
          "output_type": "execute_result",
          "data": {
            "text/plain": [
              "'(0, 0, 0, 0, 0, 2, 1, 0, 2, 1, 1, 0, 1, 1, 2, 0, 2, 2, 2, 0, 2, 2, 2, 1, 0, 2, 1, 1, 1, 1, 0, 0, 2, 1, 0, 0, 2, 0, 2, 2, 2, 1, 0, 0, 2, 1, 0, 1, 1, 1, 0, 0, 1, 1, 1, 0, 2, 0, 2, 1)'"
            ]
          },
          "metadata": {},
          "execution_count": 81
        }
      ],
      "metadata": {}
    },
    {
      "cell_type": "markdown",
      "source": [
        "We will concatenate the columns of predicted and y_test dataframe to X_test"
      ],
      "metadata": {
        "id": "czv-iPfLOaoj"
      }
    },
    {
      "cell_type": "code",
      "execution_count": 29,
      "source": [
        "# a)Concatenate X_test and y_test dataframe by column and assign it to the new dataframe 'Test_Data'\r\n",
        "# b)Concatenate Test_data and Predicted dataframe by column assign it to the new dataframe 'Check_Prediction' "
      ],
      "outputs": [],
      "metadata": {
        "id": "-gypIBLfiy59"
      }
    },
    {
      "cell_type": "code",
      "execution_count": 30,
      "source": [
        "#Write the code below\r\n",
        "Test_Data = pd.concat([X_test, y_test], axis=1, ignore_index=False)\r\n",
        "\r\n",
        "temp = pd.DataFrame(y_predict, index=Test_Data.index, columns=[\"Predicted\"])\r\n",
        "Check_Prediction = pd.concat([Test_Data, temp], axis=1, ignore_index=False)"
      ],
      "outputs": [],
      "metadata": {
        "id": "WP_BNoymLC5I"
      }
    },
    {
      "cell_type": "markdown",
      "source": [
        "We will calculate the accuracy now :"
      ],
      "metadata": {
        "id": "ktMbUpPE4t2E"
      }
    },
    {
      "cell_type": "code",
      "execution_count": 31,
      "source": [
        "# Question 2) Calculate the accuracy obtained for the algorithm used above\r\n",
        "#             Assign the accuracy to ans[1] and store it as 'Accuracy_NearestNeighbours'  "
      ],
      "outputs": [],
      "metadata": {
        "id": "7ByP9eMzpT7u"
      }
    },
    {
      "cell_type": "code",
      "execution_count": 32,
      "source": [
        "#NOTE - Accuracy = Correct_Predictions/Total_Predictions\r\n",
        "#Write the code below\r\n",
        "Accuracy_NearestNeighbours = sum([1 for i in Check_Prediction.index \\\r\n",
        "                                  if Check_Prediction.loc[i, \"Species_encoded\"] == Check_Prediction.loc[i, \"Predicted\"]])/len(Check_Prediction)\r\n",
        "\r\n",
        "# 1 mark\r\n",
        "ans[1] = Accuracy_NearestNeighbours\r\n",
        "Accuracy_NearestNeighbours"
      ],
      "outputs": [
        {
          "output_type": "execute_result",
          "data": {
            "text/plain": [
              "0.9"
            ]
          },
          "metadata": {},
          "execution_count": 32
        }
      ],
      "metadata": {
        "id": "gr6T3x-TfEvg"
      }
    },
    {
      "cell_type": "markdown",
      "source": [
        "Now let us have a look at the values that we did not predicted correctly :"
      ],
      "metadata": {
        "id": "N4t20uChOkLU"
      }
    },
    {
      "cell_type": "code",
      "execution_count": 33,
      "source": [
        "#Plot the data categorywise using scatter plot and visualize the data. Also include labels and legend.\r\n",
        "#Write the code below\r\n",
        "setosa_test = (Check_Prediction[Check_Prediction[\"Predicted\"] == 0]).iloc[:, :2]\r\n",
        "versicolor_test = (Check_Prediction[Check_Prediction[\"Predicted\"] == 1]).iloc[:, :2]\r\n",
        "virginica_test = (Check_Prediction[Check_Prediction[\"Predicted\"] == 2]).iloc[:, :2]\r\n",
        "\r\n",
        "fig = plt.figure(figsize=(10,7))\r\n",
        "plt.scatter(setosa_test.iloc[:,0], setosa_test.iloc[:,1], color='red', label=\"setosa\")\r\n",
        "plt.scatter(versicolor_test.iloc[:,0], versicolor_test.iloc[:,1], color='green', label=\"versicolor\")\r\n",
        "plt.scatter(virginica_test.iloc[:,0], virginica_test.iloc[:,1], color='blue', label=\"virginica\")\r\n",
        "\r\n",
        "plt.xlabel(\"sepal length (cm)  ---->\")\r\n",
        "plt.ylabel(\"petal width (cm)  ---->\")\r\n",
        "plt.title(\"Scatter plots of the X_test (with y_predict) (category wise) for k = 1\")\r\n",
        "plt.legend(loc='upper left')\r\n",
        "plt.grid(1)\r\n",
        "plt.show()\r\n",
        "\r\n",
        "print(\"\\n\")\r\n",
        "#Implement the below code snippet to see the values that were not predicted correctly\r\n",
        "fig = plt.figure(figsize=(10,7))\r\n",
        "plt.xlabel(\"sepal length (cm)  ---->\")\r\n",
        "plt.ylabel(\"petal width (cm)  ---->\")\r\n",
        "plt.title(\"Scatter plot to compare the correct predictions for k = 1\")\r\n",
        "\r\n",
        "for index in Check_Prediction.index:\r\n",
        "    if (Check_Prediction['Species_encoded'][index]==Check_Prediction['Predicted'][index]):\r\n",
        "        s1 = plt.scatter(Check_Prediction['sepal length (cm)'][index],Check_Prediction['petal width (cm)'][index],marker='x',c='m')\r\n",
        "    else:\r\n",
        "        s2 = plt.scatter(Check_Prediction['sepal length (cm)'][index],Check_Prediction['petal width (cm)'][index],marker='*',c='y')\r\n",
        "\r\n",
        "plt.legend((s1, s2), (\"Correct Predictions\", \"Wrong Predictions\"))\r\n",
        "plt.grid(1)\r\n",
        "plt.show()"
      ],
      "outputs": [
        {
          "output_type": "display_data",
          "data": {
            "image/png": "[encoded data removed]",
            "text/plain": [
              "<Figure size 720x504 with 1 Axes>"
            ]
          },
          "metadata": {
            "needs_background": "light"
          }
        },
        {
          "output_type": "stream",
          "name": "stdout",
          "text": [
            "\n",
            "\n"
          ]
        },
        {
          "output_type": "display_data",
          "data": {
            "image/png": "[encoded data removed]",
            "text/plain": [
              "<Figure size 720x504 with 1 Axes>"
            ]
          },
          "metadata": {
            "needs_background": "light"
          }
        }
      ],
      "metadata": {
        "id": "vWNgSD6EBq1-",
        "colab": {
          "base_uri": "https://localhost:8080/",
          "height": 933
        },
        "outputId": "546ac246-8be5-468b-f73e-0d007c7f4a0e"
      }
    },
    {
      "cell_type": "markdown",
      "source": [
        "The magenta cross represents correct predictions and the yellow stars represent incorrect predictions.\n",
        "\n",
        "We see that even if there is an outlier, if the test value is close to that value, it will be predicted in that class, which may not always be right. Hence we move on to the k Nearest Neighbor."
      ],
      "metadata": {
        "id": "2YQu3nh8ZK5B"
      }
    },
    {
      "cell_type": "markdown",
      "source": [
        "**7)  K Nearest Neighbour**\n",
        "\n",
        "Choosing the value of k for the algorithm could be a difficult task. A small value of k means that noise will have a higher influence on the result and a large value make it computationally expensive.\n",
        "\n",
        "We will have to check which value suits well. Let us start with k = 5.\n",
        "\n",
        "Now we will move on to K Nearest Neighbour classifier:"
      ],
      "metadata": {
        "id": "d42m7X1Rnl8-"
      }
    },
    {
      "cell_type": "code",
      "execution_count": 34,
      "source": [
        "# Question 3) Algorithm - Calculate the Euclidian distance for each test dataset by comparing with every training dataset and assign it to the variable 'val'\r\n",
        "#            Sort the distances obtained and take the k smallest values.\r\n",
        "#            Take their species values.\r\n",
        "#            The prediciton is the maximum frequency among all the k sorted values.  \r\n",
        "#           # Assign the y_predict to ans[2] as a tuple => (0,1,0,2, and so on)  "
      ],
      "outputs": [],
      "metadata": {
        "id": "k-7A0pPS0-Cd"
      }
    },
    {
      "cell_type": "code",
      "execution_count": 35,
      "source": [
        "start_time = time.time()\r\n",
        "k = 5\r\n",
        "y_predict = []\r\n",
        "#Write the code below\r\n",
        "y_predict = [KNN(X_train, y_train, 5, X_test.loc[i].values) for i in X_test.index]\r\n",
        "\r\n",
        "# 1 mark\r\n",
        "ans[2] = tuple (y_predict)\r\n",
        "ans[2] = str(ans[2])\r\n",
        "time_k5_NN = time.time() - start_time"
      ],
      "outputs": [],
      "metadata": {
        "id": "ffRlp-XvlwdV"
      }
    },
    {
      "cell_type": "code",
      "execution_count": 36,
      "source": [
        "# a):Concatenate X_test and y_test dataframe by column and assign it to the new dataframe 'Test_Data'\r\n",
        "# b):Concatenate Test_data and Predicted dataframe by column assign it to the new dataframe 'Check_Prediction' "
      ],
      "outputs": [],
      "metadata": {
        "id": "pvD8-_XgXUjc"
      }
    },
    {
      "cell_type": "code",
      "execution_count": 37,
      "source": [
        "# Write the code below\r\n",
        "#Write the code below\r\n",
        "Test_Data = pd.concat([X_test, y_test], axis=1, ignore_index=False)\r\n",
        "\r\n",
        "temp = pd.DataFrame(y_predict, index=Test_Data.index, columns=[\"Predicted\"])\r\n",
        "Check_Prediction = pd.concat([Test_Data, temp], axis=1, ignore_index=False)"
      ],
      "outputs": [],
      "metadata": {
        "id": "ox8v__QacRE9"
      }
    },
    {
      "cell_type": "markdown",
      "source": [
        "We will calculate the accuracy now :"
      ],
      "metadata": {
        "id": "2RBcFcwKXUjg"
      }
    },
    {
      "cell_type": "code",
      "execution_count": 38,
      "source": [
        "# Question 4) :Calculate the accuracy obtained for the algorithm used above\r\n",
        "#             Assign the accuracy to ans[3] and store it as 'Accuracy_k5_NearestNeighbours' "
      ],
      "outputs": [],
      "metadata": {
        "id": "jWs8A7Ql1NcM"
      }
    },
    {
      "cell_type": "code",
      "execution_count": 39,
      "source": [
        "#NOTE - Accuracy = Correct_Predictions/Total_Predictions\r\n",
        "#Write the code below\r\n",
        "Accuracy_k5_NearestNeighbours = sum([1 for i in Check_Prediction.index \\\r\n",
        "                                     if Check_Prediction.loc[i, \"Species_encoded\"] == Check_Prediction.loc[i, \"Predicted\"]])/len(Check_Prediction)\r\n",
        "\r\n",
        "\r\n",
        "# 1 mark\r\n",
        "ans[3] = Accuracy_k5_NearestNeighbours\r\n",
        "Accuracy_k5_NearestNeighbours"
      ],
      "outputs": [
        {
          "output_type": "execute_result",
          "data": {
            "text/plain": [
              "0.9666666666666667"
            ]
          },
          "metadata": {},
          "execution_count": 39
        }
      ],
      "metadata": {
        "id": "r7fklHz_1NcM"
      }
    },
    {
      "cell_type": "markdown",
      "source": [
        "Now let us have a look at the values that we did not predicted correctly :"
      ],
      "metadata": {
        "id": "wBaLTpXuXUjj"
      }
    },
    {
      "cell_type": "code",
      "execution_count": 40,
      "source": [
        "#Plot the data categorywise using scatter plot and visualize the data. Also include labels and legend.\r\n",
        "# Write the code below\r\n",
        "setosa_test = (Check_Prediction[Check_Prediction[\"Predicted\"] == 0]).iloc[:, :2]\r\n",
        "versicolor_test = (Check_Prediction[Check_Prediction[\"Predicted\"] == 1]).iloc[:, :2]\r\n",
        "virginica_test = (Check_Prediction[Check_Prediction[\"Predicted\"] == 2]).iloc[:, :2]\r\n",
        "\r\n",
        "fig = plt.figure(figsize=(10,7))\r\n",
        "plt.scatter(setosa_test.iloc[:,0], setosa_test.iloc[:,1], color='red', label=\"setosa\")\r\n",
        "plt.scatter(versicolor_test.iloc[:,0], versicolor_test.iloc[:,1], color='green', label=\"versicolor\")\r\n",
        "plt.scatter(virginica_test.iloc[:,0], virginica_test.iloc[:,1], color='blue', label=\"virginica\")\r\n",
        "\r\n",
        "plt.xlabel(\"sepal length (cm)  ---->\")\r\n",
        "plt.ylabel(\"petal width (cm)  ---->\")\r\n",
        "plt.title(\"Scatter plots of the X_test (with y_predict) (category wise) for k = 5\")\r\n",
        "plt.legend(loc='upper left')\r\n",
        "plt.grid(1)\r\n",
        "plt.show()\r\n",
        "\r\n",
        "print(\"\\n\")\r\n",
        "\r\n",
        "#Implement the below code snippet to see the values that were not predicted correctly\r\n",
        "fig = plt.figure(figsize=(10,7))\r\n",
        "plt.xlabel(\"sepal length (cm)  ---->\")\r\n",
        "plt.ylabel(\"petal width (cm)  ---->\")\r\n",
        "plt.title(\"Scatter plot to compare the correct predictions for k = 5\")\r\n",
        "\r\n",
        "for index in Check_Prediction.index:\r\n",
        "    if (Check_Prediction['Species_encoded'][index]==Check_Prediction['Predicted'][index]):\r\n",
        "        s1 = plt.scatter(Check_Prediction['sepal length (cm)'][index],Check_Prediction['petal width (cm)'][index],marker='x',c='m')\r\n",
        "    else:\r\n",
        "        s2 = plt.scatter(Check_Prediction['sepal length (cm)'][index],Check_Prediction['petal width (cm)'][index],marker='*',c='y')\r\n",
        "\r\n",
        "plt.legend((s1, s2), (\"Correct Predictions\", \"Wrong Predictions\"))\r\n",
        "plt.grid(1)\r\n",
        "plt.show()"
      ],
      "outputs": [
        {
          "output_type": "display_data",
          "data": {
            "image/png": "[encoded data removed]",
            "text/plain": [
              "<Figure size 720x504 with 1 Axes>"
            ]
          },
          "metadata": {
            "needs_background": "light"
          }
        },
        {
          "output_type": "stream",
          "name": "stdout",
          "text": [
            "\n",
            "\n"
          ]
        },
        {
          "output_type": "display_data",
          "data": {
            "image/png": "[encoded data removed]",
            "text/plain": [
              "<Figure size 720x504 with 1 Axes>"
            ]
          },
          "metadata": {
            "needs_background": "light"
          }
        }
      ],
      "metadata": {
        "id": "IRZR78zY1dQU",
        "colab": {
          "base_uri": "https://localhost:8080/",
          "height": 933
        },
        "outputId": "18a9099d-e739-4d6f-b7cc-c1431c4e301a"
      }
    },
    {
      "cell_type": "markdown",
      "source": [
        "From this plot, it is visible that some of the outlier cases wrongly predicted in previous method are being taken care of by kNN. Still there could always be some errors near boundary lines."
      ],
      "metadata": {
        "id": "zc3PoFufzQwD"
      }
    },
    {
      "cell_type": "markdown",
      "source": [
        "Choosing an optimum value of k is very important. Let us see the problems when k is too large or too less.\n",
        "\n",
        "First when k is too small :\n",
        "\n",
        "Let us check for k = 1."
      ],
      "metadata": {
        "id": "lDfbhdnZZ502"
      }
    },
    {
      "cell_type": "markdown",
      "source": [
        "We are adding some outliers in the data to see what the KNN for k=1 predicts."
      ],
      "metadata": {
        "id": "hW5OhE3KMvc7"
      }
    },
    {
      "cell_type": "code",
      "execution_count": 41,
      "source": [
        "#adding outliers in the data\r\n",
        "X_test.loc[len(X_test.index)] = [4.5, 1.5]    ###check the added values in the data frames\r\n",
        "X_test.loc[len(X_test.index)] = [4.8, 1.5]  \r\n",
        "X_test.loc[len(X_test.index)] = [7, 1.5]  \r\n",
        "X_test.loc[len(X_test.index)] = [5, 0.85]  \r\n",
        "y_test.loc[len(y_test.index)] = 1\r\n",
        "y_test.loc[len(y_test.index)] = 1\r\n",
        "y_test.loc[len(y_test.index)] = 2\r\n",
        "y_test.loc[len(y_test.index)] = 0"
      ],
      "outputs": [
        {
          "output_type": "stream",
          "name": "stderr",
          "text": [
            "C:\\Users\\152am\\AppData\\Local\\Packages\\PythonSoftwareFoundation.Python.3.8_qbz5n2kfra8p0\\LocalCache\\local-packages\\Python38\\site-packages\\pandas\\core\\indexing.py:692: SettingWithCopyWarning: \n",
            "A value is trying to be set on a copy of a slice from a DataFrame\n",
            "\n",
            "See the caveats in the documentation: https://pandas.pydata.org/pandas-docs/stable/user_guide/indexing.html#returning-a-view-versus-a-copy\n",
            "  iloc._setitem_with_indexer(indexer, value, self.name)\n"
          ]
        }
      ],
      "metadata": {
        "id": "VwoYvjYvMxTv",
        "colab": {
          "base_uri": "https://localhost:8080/"
        },
        "outputId": "4025a6ed-f360-4ec3-da44-457efcde0220"
      }
    },
    {
      "cell_type": "code",
      "execution_count": 42,
      "source": [
        "# Now implement KNN algorithm with k = 1"
      ],
      "outputs": [],
      "metadata": {
        "id": "5zjeeRagcVzd"
      }
    },
    {
      "cell_type": "code",
      "execution_count": 43,
      "source": [
        "start_time = time.time()\r\n",
        "k = 1\r\n",
        "y_predict = []\r\n",
        "#Write the code below\r\n",
        "y_predict = [KNN(X_train, y_train, 1, X_test.loc[i].values) for i in X_test.index]\r\n",
        "\r\n",
        "time_k1_NN = time.time() - start_time"
      ],
      "outputs": [],
      "metadata": {
        "id": "8Wq7Ib-ZcVl9"
      }
    },
    {
      "cell_type": "code",
      "execution_count": 44,
      "source": [
        "# a):Concatenate X_test and y_test dataframe by column and assign it to the new dataframe 'Test_Data'\r\n",
        "# b):Concatenate Test_data and Predicted dataframe by column assign it to the new dataframe 'Check_Prediction' "
      ],
      "outputs": [],
      "metadata": {
        "id": "_BDRidu-cVWF"
      }
    },
    {
      "cell_type": "code",
      "execution_count": 45,
      "source": [
        "# Write the code below\r\n",
        "Test_Data = pd.concat([X_test, y_test], axis=1, ignore_index=False)\r\n",
        "\r\n",
        "temp = pd.DataFrame(y_predict, index=Test_Data.index, columns=[\"Predicted\"])\r\n",
        "Check_Prediction = pd.concat([Test_Data, temp], axis=1, ignore_index=False)"
      ],
      "outputs": [],
      "metadata": {
        "id": "sXXswMHLcfK2"
      }
    },
    {
      "cell_type": "markdown",
      "source": [
        "We will calculate the accuracy now :"
      ],
      "metadata": {
        "id": "tK_MsXnvckcs"
      }
    },
    {
      "cell_type": "code",
      "execution_count": 46,
      "source": [
        "# Question 5) :Calculate the accuracy obtained for the algorithm used above\r\n",
        "#             Assign the accuracy to ans[4] and store it as 'Accuracy_k2_NearestNeighbours'"
      ],
      "outputs": [],
      "metadata": {
        "id": "B-dsgrFscl_u"
      }
    },
    {
      "cell_type": "code",
      "execution_count": 47,
      "source": [
        "#NOTE - Accuracy = Correct_Predictions/Total_Predictions\r\n",
        "#Write the code below\r\n",
        "Accuracy_k2_NearestNeighbours = sum([1 for i in Check_Prediction.index \\\r\n",
        "                                     if Check_Prediction.loc[i, \"Species_encoded\"] == Check_Prediction.loc[i, \"Predicted\"]])/len(Check_Prediction)\r\n",
        "\r\n",
        "\r\n",
        "# 1 mark\r\n",
        "ans[4] = Accuracy_k2_NearestNeighbours\r\n",
        "Accuracy_k2_NearestNeighbours"
      ],
      "outputs": [
        {
          "output_type": "execute_result",
          "data": {
            "text/plain": [
              "0.84375"
            ]
          },
          "metadata": {},
          "execution_count": 47
        }
      ],
      "metadata": {
        "id": "_K6iUEzUcoIu",
        "colab": {
          "base_uri": "https://localhost:8080/"
        },
        "outputId": "d8e08deb-33a1-4df6-9b2a-98ae1699c608"
      }
    },
    {
      "cell_type": "markdown",
      "source": [
        "As we can clearly see that KNN for k=1 doesn't do well in case of outliers. Hence, we increase the value of k to get better results."
      ],
      "metadata": {
        "id": "s7qE06gMMooU"
      }
    },
    {
      "cell_type": "markdown",
      "source": [
        "Let us check for k = 2."
      ],
      "metadata": {
        "id": "kXWMlk5gcsy2"
      }
    },
    {
      "cell_type": "code",
      "execution_count": 48,
      "source": [
        "# Now implement KNN algorithm with k = 2"
      ],
      "outputs": [],
      "metadata": {
        "id": "fpgM3Lca1ui1"
      }
    },
    {
      "cell_type": "code",
      "execution_count": 49,
      "source": [
        "start_time = time.time()\r\n",
        "k = 2\r\n",
        "y_predict = []\r\n",
        "#Write the code below\r\n",
        "y_predict = [KNN(X_train, y_train, 2, X_test.loc[i].values) for i in X_test.index]\r\n",
        "\r\n",
        "time_k2_NN = time.time() - start_time"
      ],
      "outputs": [],
      "metadata": {
        "id": "CA-Il-VBaF5z"
      }
    },
    {
      "cell_type": "code",
      "execution_count": 50,
      "source": [
        "# a):Concatenate X_test and y_test dataframe by column and assign it to the new dataframe 'Test_Data'\r\n",
        "# b):Concatenate Test_data and Predicted dataframe by column assign it to the new dataframe 'Check_Prediction' "
      ],
      "outputs": [],
      "metadata": {
        "id": "iGRYyAJDaF52"
      }
    },
    {
      "cell_type": "code",
      "execution_count": 51,
      "source": [
        "# Write the code below\r\n",
        "Test_Data = pd.concat([X_test, y_test], axis=1, ignore_index=False)\r\n",
        "\r\n",
        "temp = pd.DataFrame(y_predict, index=Test_Data.index, columns=[\"Predicted\"])\r\n",
        "Check_Prediction = pd.concat([Test_Data, temp], axis=1, ignore_index=False)"
      ],
      "outputs": [],
      "metadata": {
        "id": "gcnnpnjncJ3m"
      }
    },
    {
      "cell_type": "markdown",
      "source": [
        "We will calculate the accuracy now :"
      ],
      "metadata": {
        "id": "PAQmE2lraF55"
      }
    },
    {
      "cell_type": "code",
      "execution_count": 52,
      "source": [
        "# Question 6) :Calculate the accuracy obtained for the algorithm used above\r\n",
        "#             Assign the accuracy to ans[5] and store it as 'Accuracy_k2_NearestNeighbours'"
      ],
      "outputs": [],
      "metadata": {
        "id": "p_G7wBru2HZT"
      }
    },
    {
      "cell_type": "code",
      "execution_count": 53,
      "source": [
        "#NOTE - Accuracy = Correct_Predictions/Total_Predictions\r\n",
        "#Write the code below\r\n",
        "Accuracy_k2_NearestNeighbours = sum([1 for i in Check_Prediction.index \\\r\n",
        "                                     if Check_Prediction.loc[i, \"Species_encoded\"] == Check_Prediction.loc[i, \"Predicted\"]])/len(Check_Prediction)\r\n",
        "\r\n",
        "\r\n",
        "# 1 mark\r\n",
        "ans[5] = Accuracy_k2_NearestNeighbours\r\n",
        "Accuracy_k2_NearestNeighbours"
      ],
      "outputs": [
        {
          "output_type": "execute_result",
          "data": {
            "text/plain": [
              "0.921875"
            ]
          },
          "metadata": {},
          "execution_count": 53
        }
      ],
      "metadata": {
        "id": "BpdEvNnj2HZT",
        "colab": {
          "base_uri": "https://localhost:8080/"
        },
        "outputId": "871e0b90-882b-4789-b289-44f1bb850863"
      }
    },
    {
      "cell_type": "markdown",
      "source": [
        "As we can see, when k is too small, it is better than Nearest Neighbour but __A__ accurate than k = 5.\n",
        "\n"
      ],
      "metadata": {
        "id": "2AepSoF4aF58"
      }
    },
    {
      "cell_type": "code",
      "execution_count": 54,
      "source": [
        "#Question 7) What will come inplace of A \r\n",
        "#            Assign the answer to ans[6] for A \r\n",
        "# A = less or more? Write your response as \"less\" or \"more\" to the ans[6].\r\n",
        "# Answer is case sensitive. Adhere to the choices given."
      ],
      "outputs": [],
      "metadata": {
        "id": "y1PQAA7m9Ohf"
      }
    },
    {
      "cell_type": "code",
      "execution_count": 55,
      "source": [
        "# 1 marks\r\n",
        "ans[6] = \"less\""
      ],
      "outputs": [],
      "metadata": {
        "id": "e3kA0eBi9fy1"
      }
    },
    {
      "cell_type": "markdown",
      "source": [
        "Now let us see when k is large, for example k = 12 :"
      ],
      "metadata": {
        "id": "SxPf-gq6dQvO"
      }
    },
    {
      "cell_type": "code",
      "execution_count": 56,
      "source": [
        "# Now implement KNN algorithm with k = 12"
      ],
      "outputs": [],
      "metadata": {
        "id": "KDQV9-_R26rN"
      }
    },
    {
      "cell_type": "code",
      "execution_count": 57,
      "source": [
        "start_time = time.time()\r\n",
        "k = 12\r\n",
        "y_predict = []\r\n",
        "#Write the code below\r\n",
        "y_predict = [KNN(X_train, y_train, 12, X_test.loc[i].values) for i in X_test.index]\r\n",
        "\r\n",
        "time_k12_NN = time.time() - start_time"
      ],
      "outputs": [],
      "metadata": {
        "id": "Yg2JI9FwcVOX"
      }
    },
    {
      "cell_type": "code",
      "execution_count": 58,
      "source": [
        "# a):Concatenate X_test and y_test dataframe by column and assign it to the new dataframe 'Test_Data'\r\n",
        "# b):Concatenate Test_data and Predicted dataframe by column assign it to the new dataframe 'Check_Prediction'"
      ],
      "outputs": [],
      "metadata": {
        "id": "SG7GuZyMcVOb"
      }
    },
    {
      "cell_type": "code",
      "execution_count": 59,
      "source": [
        "# Write the code below\r\n",
        "Test_Data = pd.concat([X_test, y_test], axis=1, ignore_index=False)\r\n",
        "\r\n",
        "temp = pd.DataFrame(y_predict, index=Test_Data.index, columns=[\"Predicted\"])\r\n",
        "Check_Prediction = pd.concat([Test_Data, temp], axis=1, ignore_index=False)"
      ],
      "outputs": [],
      "metadata": {
        "id": "qY751odXdn5W"
      }
    },
    {
      "cell_type": "markdown",
      "source": [
        "We will calculate the accuracy now :"
      ],
      "metadata": {
        "id": "6CVyENsMcVOd"
      }
    },
    {
      "cell_type": "code",
      "execution_count": 60,
      "source": [
        "# Question 8) :Calculate the accuracy obtained for the algorithm used above\r\n",
        "#              Assign the accuracy to ans[7] and store it as 'Accuracy_k12_NearestNeighbours'"
      ],
      "outputs": [],
      "metadata": {
        "id": "WesRmsvV3JIc"
      }
    },
    {
      "cell_type": "code",
      "execution_count": 61,
      "source": [
        "#NOTE - Accuracy = Correct_Predictions/Total_Predictions\r\n",
        "#Write the code below\r\n",
        "Accuracy_k12_NearestNeighbours = sum([1 for i in Check_Prediction.index \\\r\n",
        "                                     if Check_Prediction.loc[i, \"Species_encoded\"] == Check_Prediction.loc[i, \"Predicted\"]])/len(Check_Prediction)\r\n",
        "\r\n",
        "\r\n",
        "# 1 mark\r\n",
        "ans[7] = Accuracy_k12_NearestNeighbours\r\n",
        "Accuracy_k12_NearestNeighbours"
      ],
      "outputs": [
        {
          "output_type": "execute_result",
          "data": {
            "text/plain": [
              "0.9375"
            ]
          },
          "metadata": {},
          "execution_count": 61
        }
      ],
      "metadata": {
        "id": "frhJJzlv3JIc",
        "colab": {
          "base_uri": "https://localhost:8080/"
        },
        "outputId": "e0def732-80cb-4c2e-a2c6-020552d5da1f"
      }
    },
    {
      "cell_type": "markdown",
      "source": [
        "We see that the accuracy is good but it is lower than when k = 5. This is because when the dataset is small and the value of k is too big, it looks at too many points in the surrounding and sometimes gets the wrong prediction about which class it belongs to."
      ],
      "metadata": {
        "id": "XL9xXPYlc4kY"
      }
    },
    {
      "cell_type": "markdown",
      "source": [
        "**8) Nearest Mean Classification**\n",
        "\n",
        "Here we take the mean for each of the classes and compare the test cases with them to reduce computational time."
      ],
      "metadata": {
        "id": "E00_t_Zlwq88"
      }
    },
    {
      "cell_type": "code",
      "execution_count": 62,
      "source": [
        "setosa_PetalWidth = setosa['petal width (cm)'].mean()                         # Calculate the mean for all the features of all the classes\r\n",
        "setosa_SepalLength = setosa['sepal length (cm)'].mean()\r\n",
        "\r\n",
        "versicolor_PetalWidth = versicolor['petal width (cm)'].mean()\r\n",
        "versicolor_SepalLength = versicolor['sepal length (cm)'].mean()\r\n",
        "\r\n",
        "virginica_PetalWidth = virginica['petal width (cm)'].mean()\r\n",
        "virginica_SepalLength = virginica['sepal length (cm)'].mean()"
      ],
      "outputs": [],
      "metadata": {
        "id": "fUjxOuL_vsRe"
      }
    },
    {
      "cell_type": "code",
      "execution_count": 63,
      "source": [
        "# Algorithm - Calculate the Euclidian distance for each test dataset by comparing with mean of every class\r\n",
        "#            The predicited class is the minimum value obtained from all the Euclidian distance calculated for that test datapoint "
      ],
      "outputs": [],
      "metadata": {
        "id": "NsP2J79C4xo2"
      }
    },
    {
      "cell_type": "code",
      "execution_count": 64,
      "source": [
        "def KNN_Mean(x):\r\n",
        "    distances = [0,0,0]\r\n",
        "    distances[0] = euclidDistance((setosa_SepalLength, setosa_PetalWidth), x)\r\n",
        "    distances[1] = euclidDistance((versicolor_SepalLength, versicolor_PetalWidth), x)\r\n",
        "    distances[2] = euclidDistance((virginica_SepalLength, virginica_PetalWidth), x)\r\n",
        "\r\n",
        "    return distances.index(min(distances))"
      ],
      "outputs": [],
      "metadata": {
        "id": "cn9ppv0Lpjbf"
      }
    },
    {
      "cell_type": "code",
      "execution_count": 65,
      "source": [
        "start_time = time.time()\r\n",
        "y_predict = []\r\n",
        "#Write the code below\r\n",
        "y_predict = [KNN_Mean(X_test.loc[i].values) for i in X_test.index]\r\n",
        "\r\n",
        "time_NM = time.time() - start_time"
      ],
      "outputs": [],
      "metadata": {
        "id": "RiKS0mxgxGV3"
      }
    },
    {
      "cell_type": "code",
      "execution_count": 66,
      "source": [
        "# a):Concatenate X_test and y_test dataframe by column and assign it to the new dataframe 'Test_Data'\r\n",
        "# b):Concatenate Test_data and Predicted dataframe by column assign it to the new dataframe 'Check_Prediction'"
      ],
      "outputs": [],
      "metadata": {
        "id": "kOAwdVn-XdNL"
      }
    },
    {
      "cell_type": "code",
      "execution_count": 67,
      "source": [
        "# Write the code below\r\n",
        "Test_Data = pd.concat([X_test, y_test], axis=1, ignore_index=False)\r\n",
        "\r\n",
        "temp = pd.DataFrame(y_predict, index=Test_Data.index, columns=[\"Predicted\"])\r\n",
        "Check_Prediction = pd.concat([Test_Data, temp], axis=1, ignore_index=False)"
      ],
      "outputs": [],
      "metadata": {
        "id": "JKuE_0hFdkwe"
      }
    },
    {
      "cell_type": "markdown",
      "source": [
        "We will calculate the accuracy now :"
      ],
      "metadata": {
        "id": "mGLQqIa8XdNO"
      }
    },
    {
      "cell_type": "code",
      "execution_count": 68,
      "source": [
        "# Question 9) :Calculate the accuracy obtained for the algorithm used above\r\n",
        "#              Assign the accuracy to ans[8] and store it as 'Accuracy_NearestMean'"
      ],
      "outputs": [],
      "metadata": {
        "id": "cWjfMLG-53de"
      }
    },
    {
      "cell_type": "code",
      "execution_count": 69,
      "source": [
        "#NOTE - Accuracy = Correct_Predictions/Total_Predictions\r\n",
        "#Write the code below\r\n",
        "Accuracy_NearestMean = sum([1 for i in Check_Prediction.index \\\r\n",
        "                                     if Check_Prediction.loc[i, \"Species_encoded\"] == Check_Prediction.loc[i, \"Predicted\"]])/len(Check_Prediction)\r\n",
        "\r\n",
        "\r\n",
        "# 1 mark\r\n",
        "ans[8] = Accuracy_NearestMean\r\n",
        "Accuracy_NearestMean"
      ],
      "outputs": [
        {
          "output_type": "execute_result",
          "data": {
            "text/plain": [
              "0.796875"
            ]
          },
          "metadata": {},
          "execution_count": 69
        }
      ],
      "metadata": {
        "id": "O2wX75VG53de",
        "colab": {
          "base_uri": "https://localhost:8080/"
        },
        "outputId": "2a4adda7-ac56-41c1-aec9-31ecae62047e"
      }
    },
    {
      "cell_type": "markdown",
      "source": [
        "Now let us have a look at the values that we did not predicted correctly :"
      ],
      "metadata": {
        "id": "UvlN-5zaXdNR"
      }
    },
    {
      "cell_type": "code",
      "execution_count": 70,
      "source": [
        "#Plot the data categorywise using scatter plot and visualize the data. Also include labels and legend.\r\n",
        "# Write the code below\r\n",
        "setosa_test = (Check_Prediction[Check_Prediction[\"Predicted\"] == 0]).iloc[:, :2]\r\n",
        "versicolor_test = (Check_Prediction[Check_Prediction[\"Predicted\"] == 1]).iloc[:, :2]\r\n",
        "virginica_test = (Check_Prediction[Check_Prediction[\"Predicted\"] == 2]).iloc[:, :2]\r\n",
        "\r\n",
        "fig = plt.figure(figsize=(10,7))\r\n",
        "plt.scatter(setosa_test.iloc[:,0], setosa_test.iloc[:,1], color='red', label=\"setosa\")\r\n",
        "plt.scatter(versicolor_test.iloc[:,0], versicolor_test.iloc[:,1], color='green', label=\"versicolor\")\r\n",
        "plt.scatter(virginica_test.iloc[:,0], virginica_test.iloc[:,1], color='blue', label=\"virginica\")\r\n",
        "\r\n",
        "plt.xlabel(\"sepal length (cm)  ---->\")\r\n",
        "plt.ylabel(\"petal width (cm)  ---->\")\r\n",
        "plt.title(\"Scatter plots of the X_test (with y_predict) (category wise) with KNN Mean\")\r\n",
        "plt.legend(loc='upper left')\r\n",
        "plt.grid(1)\r\n",
        "plt.show()\r\n",
        "\r\n",
        "print(\"\\n\")\r\n",
        "\r\n",
        "#Implement the below code snippet to see the values that were not predicted correctly\r\n",
        "fig = plt.figure(figsize=(10,7))\r\n",
        "plt.xlabel(\"sepal length (cm)  ---->\")\r\n",
        "plt.ylabel(\"petal width (cm)  ---->\")\r\n",
        "plt.title(\"Scatter plot to compare the correct predictions with KNN Mean\")\r\n",
        "\r\n",
        "for index in Check_Prediction.index:\r\n",
        "    if (Check_Prediction['Species_encoded'][index]==Check_Prediction['Predicted'][index]):\r\n",
        "        s1 = plt.scatter(Check_Prediction['sepal length (cm)'][index],Check_Prediction['petal width (cm)'][index],marker='x',c='m')\r\n",
        "    else:\r\n",
        "        s2 = plt.scatter(Check_Prediction['sepal length (cm)'][index],Check_Prediction['petal width (cm)'][index],marker='*',c='y')\r\n",
        "\r\n",
        "plt.legend((s1, s2), (\"Correct Predictions\", \"Wrong Predictions\"))\r\n",
        "plt.grid(1)\r\n",
        "plt.show()"
      ],
      "outputs": [
        {
          "output_type": "display_data",
          "data": {
            "image/png": "[encoded data removed]",
            "text/plain": [
              "<Figure size 720x504 with 1 Axes>"
            ]
          },
          "metadata": {
            "needs_background": "light"
          }
        },
        {
          "output_type": "stream",
          "name": "stdout",
          "text": [
            "\n",
            "\n"
          ]
        },
        {
          "output_type": "display_data",
          "data": {
            "image/png": "[encoded data removed]",
            "text/plain": [
              "<Figure size 720x504 with 1 Axes>"
            ]
          },
          "metadata": {
            "needs_background": "light"
          }
        }
      ],
      "metadata": {
        "id": "8ffJPAGZ6EEg",
        "colab": {
          "base_uri": "https://localhost:8080/",
          "height": 933
        },
        "outputId": "ad94981d-1970-4fdf-d978-dcd2b41e9894"
      }
    },
    {
      "cell_type": "markdown",
      "source": [
        "We should only use this method if time complexity is really important to us as this method estimates the boundary just based on the mean which cannot be always relied on. Hence we see that as the mean of Green and Blue are close together, there are many wrong predictions in that region."
      ],
      "metadata": {
        "id": "DBMGlXuIzne2"
      }
    },
    {
      "cell_type": "markdown",
      "source": [
        "**9) Compare Results**"
      ],
      "metadata": {
        "id": "5LXFnIyY7aLu"
      }
    },
    {
      "cell_type": "code",
      "execution_count": 71,
      "source": [
        "# Do not make changes in this cell\r\n",
        "# Simply execute it and move on\r\n",
        "print(\"ACCURACIES:\\n\")\r\n",
        "print(\"Nearest Neighbours=\",Accuracy_NearestNeighbours)\r\n",
        "print(\"K Nearest Neighbours(k = 5) =\",Accuracy_k5_NearestNeighbours)\r\n",
        "print(\"K Nearest Neighbours(k = 2) =\",Accuracy_k2_NearestNeighbours)\r\n",
        "print(\"K Nearest Neighbours(k = 12) =\",Accuracy_k12_NearestNeighbours)\r\n",
        "print(\"Nearest Mean=\",Accuracy_NearestMean)\r\n",
        "print(\"=========================================================================\")\r\n",
        "print(\"TIMINGS:\\n\")\r\n",
        "print(\"Nearest Neighbours=\",time_NN)\r\n",
        "print(\"K Nearest Neighbours(k = 5) =\",time_k5_NN)\r\n",
        "print(\"K Nearest Neighbours(k = 2) =\",time_k2_NN)\r\n",
        "print(\"K Nearest Neighbours(k = 12) =\",time_k12_NN)\r\n",
        "print(\"Nearest Mean=\",time_NM)\r\n",
        "print(\"=========================================================================\")"
      ],
      "outputs": [
        {
          "output_type": "stream",
          "name": "stdout",
          "text": [
            "ACCURACIES:\n",
            "\n",
            "Nearest Neighbours= 0.9\n",
            "K Nearest Neighbours(k = 5) = 0.9666666666666667\n",
            "K Nearest Neighbours(k = 2) = 0.921875\n",
            "K Nearest Neighbours(k = 12) = 0.9375\n",
            "Nearest Mean= 0.796875\n",
            "=========================================================================\n",
            "TIMINGS:\n",
            "\n",
            "Nearest Neighbours= 0.3653411865234375\n",
            "K Nearest Neighbours(k = 5) = 0.3809821605682373\n",
            "K Nearest Neighbours(k = 2) = 0.39295053482055664\n",
            "K Nearest Neighbours(k = 12) = 0.396953821182251\n",
            "Nearest Mean= 0.00498509407043457\n",
            "=========================================================================\n"
          ]
        }
      ],
      "metadata": {
        "id": "Q534dbt_0fvi",
        "colab": {
          "base_uri": "https://localhost:8080/"
        },
        "outputId": "a8d7b289-bd1f-4f8a-9e49-e7e628fb6596"
      }
    },
    {
      "cell_type": "markdown",
      "source": [
        "On comparing the 3 timings of kNN, we see that the model with least k takes the __B__ time. It feels wrong but it does makes sense. I will explain why.\n",
        "\n",
        "When k is low, the decision boundary changes a lot of times, ie there is a sudden change in the class in a small distance, while when k is large, the decision boundary is smoother and does not changes as often which helps when it comes to time complexity."
      ],
      "metadata": {
        "id": "BlAlz9e2fX0Y"
      }
    },
    {
      "cell_type": "code",
      "execution_count": 72,
      "source": [
        "#Question 10) What will come inplace of B \r\n",
        "#            Assign the answer to ans[9] for B \r\n",
        "# B = highest or lowest? Write your response as \"highest\" or \"lowest\" to the ans[9].\r\n",
        "# Answer is case sensitive. Adhere to the choices given."
      ],
      "outputs": [],
      "metadata": {
        "id": "OS-Q6NNfeg5G"
      }
    },
    {
      "cell_type": "code",
      "execution_count": 73,
      "source": [
        "# 1 marks\r\n",
        "ans[9] =  \"highest\""
      ],
      "outputs": [],
      "metadata": {
        "id": "acY-paqEekLA"
      }
    },
    {
      "cell_type": "markdown",
      "source": [
        "On comparing the 3 plots, we can see that most of the errors occur at the boundary of 2 different classes. We reduce it slightly using the k nearest neighbours but not completely. \n",
        "\n",
        "Although Nearest mean has a significantly lower time than the other 2 processes, it is not a preffered method. It is because it has very low accuracy and it is very uncertain.\n",
        "\n",
        "The most preffered algorithm is the k nearest neighbour algorithm as it gives very good accuracy as well as acceptable runtime."
      ],
      "metadata": {
        "id": "iHuE2_8j218i"
      }
    },
    {
      "cell_type": "markdown",
      "source": [
        "**sklearn Library**"
      ],
      "metadata": {
        "id": "OIf1KR2Sf-vP"
      }
    },
    {
      "cell_type": "markdown",
      "source": [
        "There is an inbuilt function to directly perform kNN from sklearn library."
      ],
      "metadata": {
        "id": "vgcrHnVKgExY"
      }
    },
    {
      "cell_type": "code",
      "execution_count": 74,
      "source": [
        "# Do not make changes in the below cells\r\n",
        "# Simply execute it and move on"
      ],
      "outputs": [],
      "metadata": {
        "id": "e-0-jShel5GV"
      }
    },
    {
      "cell_type": "code",
      "execution_count": 75,
      "source": [
        "# Import the library\r\n",
        "\r\n",
        "from sklearn.neighbors import KNeighborsClassifier "
      ],
      "outputs": [],
      "metadata": {
        "id": "hR4B5bIbgD9k"
      }
    },
    {
      "cell_type": "markdown",
      "source": [
        "We will first do for k = 4"
      ],
      "metadata": {
        "id": "FTsAEdWpg0qm"
      }
    },
    {
      "cell_type": "code",
      "execution_count": 76,
      "source": [
        "neigh = KNeighborsClassifier(n_neighbors=4)\r\n",
        "neigh.fit(X_train,y_train)\r\n",
        "Predicted = neigh.predict(X_test)\r\n",
        "print(Predicted)"
      ],
      "outputs": [
        {
          "output_type": "stream",
          "name": "stdout",
          "text": [
            "[0 0 0 0 0 2 1 0 2 1 1 0 1 1 2 0 1 2 2 0 2 2 2 1 0 2 1 1 1 1 0 0 2 1 0 0 1\n",
            " 0 2 1 2 1 0 0 2 1 0 1 2 1 0 0 2 1 1 0 2 0 2 1 1 1 1 1]\n"
          ]
        }
      ],
      "metadata": {
        "id": "L7zbW464gplX",
        "colab": {
          "base_uri": "https://localhost:8080/"
        },
        "outputId": "5de2cbba-de0a-4b15-aa96-22d5482e792f"
      }
    },
    {
      "cell_type": "markdown",
      "source": [
        "sklearn also has a funtion to calculate accuracy"
      ],
      "metadata": {
        "id": "VUWpQ5DFhf4s"
      }
    },
    {
      "cell_type": "code",
      "execution_count": 77,
      "source": [
        "y_test.values"
      ],
      "outputs": [
        {
          "output_type": "execute_result",
          "data": {
            "text/plain": [
              "array([0, 0, 0, 0, 0, 2, 1, 0, 2, 1, 1, 0, 1, 1, 2, 0, 1, 2, 2, 0, 2, 2,\n",
              "       2, 1, 0, 2, 2, 1, 1, 1, 0, 0, 2, 1, 0, 0, 1, 0, 2, 1, 2, 1, 0, 0,\n",
              "       2, 1, 0, 1, 2, 1, 0, 0, 2, 1, 1, 0, 2, 0, 2, 1, 1, 1, 2, 0],\n",
              "      dtype=int64)"
            ]
          },
          "metadata": {},
          "execution_count": 77
        }
      ],
      "metadata": {
        "colab": {
          "base_uri": "https://localhost:8080/"
        },
        "id": "EZ7lHR9ctF8O",
        "outputId": "c4a5b375-ec82-45d3-a3d7-39548346b8e4"
      }
    },
    {
      "cell_type": "code",
      "execution_count": 78,
      "source": [
        "#Import scikit-learn metrics module for accuracy calculation\r\n",
        "from sklearn import metrics\r\n",
        "# Model Accuracy, how often is the classifier correct?\r\n",
        "print(\"Accuracy = \",metrics.accuracy_score(y_test.values,Predicted))"
      ],
      "outputs": [
        {
          "output_type": "stream",
          "name": "stdout",
          "text": [
            "Accuracy =  0.953125\n"
          ]
        }
      ],
      "metadata": {
        "id": "6vaxkYyagtoB",
        "colab": {
          "base_uri": "https://localhost:8080/",
          "height": 340
        },
        "outputId": "5937a27b-0b14-4499-b43e-d950cf89cbd6"
      }
    },
    {
      "cell_type": "code",
      "execution_count": 79,
      "source": [
        "# Run the this cell to submit your answers and get score evaluated\"\r\n",
        "# Do not make any changes in this cell\r\n",
        "# Simply execute it and move on\r\n",
        "\r\n",
        "ans = [item for item in ans]\r\n",
        "with open('ans.json', 'w') as f:\r\n",
        "    json.dump(ans, f)"
      ],
      "outputs": [],
      "metadata": {
        "id": "At5RTZpqK3e0"
      }
    },
    {
      "cell_type": "code",
      "execution_count": 80,
      "source": [
        "! ../submit ans.json"
      ],
      "outputs": [
        {
          "output_type": "stream",
          "name": "stderr",
          "text": [
            "'..' is not recognized as an internal or external command,\n",
            "operable program or batch file.\n"
          ]
        }
      ],
      "metadata": {
        "id": "t4LpizUwgMLj"
      }
    },
    {
      "cell_type": "markdown",
      "source": [
        "That is all for Tutorial 6."
      ],
      "metadata": {
        "id": "8QQD6620h0fw"
      }
    }
  ]
}