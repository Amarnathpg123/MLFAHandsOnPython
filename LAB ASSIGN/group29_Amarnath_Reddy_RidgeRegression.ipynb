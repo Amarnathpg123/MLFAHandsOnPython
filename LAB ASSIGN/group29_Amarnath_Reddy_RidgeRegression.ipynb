{
 "cells": [
  {
   "cell_type": "code",
   "execution_count": 61,
   "source": [
    "# Do not make any changes in this cell\r\n",
    "# Simply execute it and move on\r\n",
    "\r\n",
    "import pandas as pd\r\n",
    "import numpy as np\r\n",
    "import matplotlib.pyplot as plt\r\n",
    "import json\r\n",
    "ans = [0]*8"
   ],
   "outputs": [],
   "metadata": {
    "id": "Cr5M5xo8bCrB"
   }
  },
  {
   "cell_type": "code",
   "execution_count": 62,
   "source": [
    "# The exercise uses Boston housing dataset which is an inbuilt dataset of scikit learn.\r\n",
    "# Run the cell below to import and get the information about the data.\r\n",
    "\r\n",
    "# Do not make any changes in this cell.\r\n",
    "# Simply execute it and move on\r\n",
    "\r\n",
    "from sklearn.datasets import load_boston\r\n",
    "boston=load_boston()"
   ],
   "outputs": [],
   "metadata": {
    "id": "1f2v_HjQbqly"
   }
  },
  {
   "cell_type": "code",
   "execution_count": 63,
   "source": [
    "# Creating a dataframe\r\n",
    "\r\n",
    "# Do not make any changes in this cell\r\n",
    "# Simply execute it and move on\r\n",
    "\r\n",
    "boston_df=pd.DataFrame(boston['data'], columns=boston['feature_names'])\r\n",
    "boston_df['target'] = pd.DataFrame(boston['target'])\r\n",
    "boston_df.head()\r\n"
   ],
   "outputs": [
    {
     "output_type": "execute_result",
     "data": {
      "text/html": [
       "<div>\n",
       "<style scoped>\n",
       "    .dataframe tbody tr th:only-of-type {\n",
       "        vertical-align: middle;\n",
       "    }\n",
       "\n",
       "    .dataframe tbody tr th {\n",
       "        vertical-align: top;\n",
       "    }\n",
       "\n",
       "    .dataframe thead th {\n",
       "        text-align: right;\n",
       "    }\n",
       "</style>\n",
       "<table border=\"1\" class=\"dataframe\">\n",
       "  <thead>\n",
       "    <tr style=\"text-align: right;\">\n",
       "      <th></th>\n",
       "      <th>CRIM</th>\n",
       "      <th>ZN</th>\n",
       "      <th>INDUS</th>\n",
       "      <th>CHAS</th>\n",
       "      <th>NOX</th>\n",
       "      <th>RM</th>\n",
       "      <th>AGE</th>\n",
       "      <th>DIS</th>\n",
       "      <th>RAD</th>\n",
       "      <th>TAX</th>\n",
       "      <th>PTRATIO</th>\n",
       "      <th>B</th>\n",
       "      <th>LSTAT</th>\n",
       "      <th>target</th>\n",
       "    </tr>\n",
       "  </thead>\n",
       "  <tbody>\n",
       "    <tr>\n",
       "      <th>0</th>\n",
       "      <td>0.00632</td>\n",
       "      <td>18.0</td>\n",
       "      <td>2.31</td>\n",
       "      <td>0.0</td>\n",
       "      <td>0.538</td>\n",
       "      <td>6.575</td>\n",
       "      <td>65.2</td>\n",
       "      <td>4.0900</td>\n",
       "      <td>1.0</td>\n",
       "      <td>296.0</td>\n",
       "      <td>15.3</td>\n",
       "      <td>396.90</td>\n",
       "      <td>4.98</td>\n",
       "      <td>24.0</td>\n",
       "    </tr>\n",
       "    <tr>\n",
       "      <th>1</th>\n",
       "      <td>0.02731</td>\n",
       "      <td>0.0</td>\n",
       "      <td>7.07</td>\n",
       "      <td>0.0</td>\n",
       "      <td>0.469</td>\n",
       "      <td>6.421</td>\n",
       "      <td>78.9</td>\n",
       "      <td>4.9671</td>\n",
       "      <td>2.0</td>\n",
       "      <td>242.0</td>\n",
       "      <td>17.8</td>\n",
       "      <td>396.90</td>\n",
       "      <td>9.14</td>\n",
       "      <td>21.6</td>\n",
       "    </tr>\n",
       "    <tr>\n",
       "      <th>2</th>\n",
       "      <td>0.02729</td>\n",
       "      <td>0.0</td>\n",
       "      <td>7.07</td>\n",
       "      <td>0.0</td>\n",
       "      <td>0.469</td>\n",
       "      <td>7.185</td>\n",
       "      <td>61.1</td>\n",
       "      <td>4.9671</td>\n",
       "      <td>2.0</td>\n",
       "      <td>242.0</td>\n",
       "      <td>17.8</td>\n",
       "      <td>392.83</td>\n",
       "      <td>4.03</td>\n",
       "      <td>34.7</td>\n",
       "    </tr>\n",
       "    <tr>\n",
       "      <th>3</th>\n",
       "      <td>0.03237</td>\n",
       "      <td>0.0</td>\n",
       "      <td>2.18</td>\n",
       "      <td>0.0</td>\n",
       "      <td>0.458</td>\n",
       "      <td>6.998</td>\n",
       "      <td>45.8</td>\n",
       "      <td>6.0622</td>\n",
       "      <td>3.0</td>\n",
       "      <td>222.0</td>\n",
       "      <td>18.7</td>\n",
       "      <td>394.63</td>\n",
       "      <td>2.94</td>\n",
       "      <td>33.4</td>\n",
       "    </tr>\n",
       "    <tr>\n",
       "      <th>4</th>\n",
       "      <td>0.06905</td>\n",
       "      <td>0.0</td>\n",
       "      <td>2.18</td>\n",
       "      <td>0.0</td>\n",
       "      <td>0.458</td>\n",
       "      <td>7.147</td>\n",
       "      <td>54.2</td>\n",
       "      <td>6.0622</td>\n",
       "      <td>3.0</td>\n",
       "      <td>222.0</td>\n",
       "      <td>18.7</td>\n",
       "      <td>396.90</td>\n",
       "      <td>5.33</td>\n",
       "      <td>36.2</td>\n",
       "    </tr>\n",
       "  </tbody>\n",
       "</table>\n",
       "</div>"
      ],
      "text/plain": [
       "      CRIM    ZN  INDUS  CHAS    NOX     RM   AGE     DIS  RAD    TAX  \\\n",
       "0  0.00632  18.0   2.31   0.0  0.538  6.575  65.2  4.0900  1.0  296.0   \n",
       "1  0.02731   0.0   7.07   0.0  0.469  6.421  78.9  4.9671  2.0  242.0   \n",
       "2  0.02729   0.0   7.07   0.0  0.469  7.185  61.1  4.9671  2.0  242.0   \n",
       "3  0.03237   0.0   2.18   0.0  0.458  6.998  45.8  6.0622  3.0  222.0   \n",
       "4  0.06905   0.0   2.18   0.0  0.458  7.147  54.2  6.0622  3.0  222.0   \n",
       "\n",
       "   PTRATIO       B  LSTAT  target  \n",
       "0     15.3  396.90   4.98    24.0  \n",
       "1     17.8  396.90   9.14    21.6  \n",
       "2     17.8  392.83   4.03    34.7  \n",
       "3     18.7  394.63   2.94    33.4  \n",
       "4     18.7  396.90   5.33    36.2  "
      ]
     },
     "metadata": {},
     "execution_count": 63
    }
   ],
   "metadata": {
    "id": "spBypUdScL8U"
   }
  },
  {
   "cell_type": "code",
   "execution_count": 64,
   "source": [
    "boston_df.info()"
   ],
   "outputs": [
    {
     "output_type": "stream",
     "name": "stdout",
     "text": [
      "<class 'pandas.core.frame.DataFrame'>\n",
      "RangeIndex: 506 entries, 0 to 505\n",
      "Data columns (total 14 columns):\n",
      " #   Column   Non-Null Count  Dtype  \n",
      "---  ------   --------------  -----  \n",
      " 0   CRIM     506 non-null    float64\n",
      " 1   ZN       506 non-null    float64\n",
      " 2   INDUS    506 non-null    float64\n",
      " 3   CHAS     506 non-null    float64\n",
      " 4   NOX      506 non-null    float64\n",
      " 5   RM       506 non-null    float64\n",
      " 6   AGE      506 non-null    float64\n",
      " 7   DIS      506 non-null    float64\n",
      " 8   RAD      506 non-null    float64\n",
      " 9   TAX      506 non-null    float64\n",
      " 10  PTRATIO  506 non-null    float64\n",
      " 11  B        506 non-null    float64\n",
      " 12  LSTAT    506 non-null    float64\n",
      " 13  target   506 non-null    float64\n",
      "dtypes: float64(14)\n",
      "memory usage: 55.5 KB\n"
     ]
    }
   ],
   "metadata": {}
  },
  {
   "cell_type": "code",
   "execution_count": 65,
   "source": [
    "boston_df.describe()"
   ],
   "outputs": [
    {
     "output_type": "execute_result",
     "data": {
      "text/html": [
       "<div>\n",
       "<style scoped>\n",
       "    .dataframe tbody tr th:only-of-type {\n",
       "        vertical-align: middle;\n",
       "    }\n",
       "\n",
       "    .dataframe tbody tr th {\n",
       "        vertical-align: top;\n",
       "    }\n",
       "\n",
       "    .dataframe thead th {\n",
       "        text-align: right;\n",
       "    }\n",
       "</style>\n",
       "<table border=\"1\" class=\"dataframe\">\n",
       "  <thead>\n",
       "    <tr style=\"text-align: right;\">\n",
       "      <th></th>\n",
       "      <th>CRIM</th>\n",
       "      <th>ZN</th>\n",
       "      <th>INDUS</th>\n",
       "      <th>CHAS</th>\n",
       "      <th>NOX</th>\n",
       "      <th>RM</th>\n",
       "      <th>AGE</th>\n",
       "      <th>DIS</th>\n",
       "      <th>RAD</th>\n",
       "      <th>TAX</th>\n",
       "      <th>PTRATIO</th>\n",
       "      <th>B</th>\n",
       "      <th>LSTAT</th>\n",
       "      <th>target</th>\n",
       "    </tr>\n",
       "  </thead>\n",
       "  <tbody>\n",
       "    <tr>\n",
       "      <th>count</th>\n",
       "      <td>506.000000</td>\n",
       "      <td>506.000000</td>\n",
       "      <td>506.000000</td>\n",
       "      <td>506.000000</td>\n",
       "      <td>506.000000</td>\n",
       "      <td>506.000000</td>\n",
       "      <td>506.000000</td>\n",
       "      <td>506.000000</td>\n",
       "      <td>506.000000</td>\n",
       "      <td>506.000000</td>\n",
       "      <td>506.000000</td>\n",
       "      <td>506.000000</td>\n",
       "      <td>506.000000</td>\n",
       "      <td>506.000000</td>\n",
       "    </tr>\n",
       "    <tr>\n",
       "      <th>mean</th>\n",
       "      <td>3.613524</td>\n",
       "      <td>11.363636</td>\n",
       "      <td>11.136779</td>\n",
       "      <td>0.069170</td>\n",
       "      <td>0.554695</td>\n",
       "      <td>6.284634</td>\n",
       "      <td>68.574901</td>\n",
       "      <td>3.795043</td>\n",
       "      <td>9.549407</td>\n",
       "      <td>408.237154</td>\n",
       "      <td>18.455534</td>\n",
       "      <td>356.674032</td>\n",
       "      <td>12.653063</td>\n",
       "      <td>22.532806</td>\n",
       "    </tr>\n",
       "    <tr>\n",
       "      <th>std</th>\n",
       "      <td>8.601545</td>\n",
       "      <td>23.322453</td>\n",
       "      <td>6.860353</td>\n",
       "      <td>0.253994</td>\n",
       "      <td>0.115878</td>\n",
       "      <td>0.702617</td>\n",
       "      <td>28.148861</td>\n",
       "      <td>2.105710</td>\n",
       "      <td>8.707259</td>\n",
       "      <td>168.537116</td>\n",
       "      <td>2.164946</td>\n",
       "      <td>91.294864</td>\n",
       "      <td>7.141062</td>\n",
       "      <td>9.197104</td>\n",
       "    </tr>\n",
       "    <tr>\n",
       "      <th>min</th>\n",
       "      <td>0.006320</td>\n",
       "      <td>0.000000</td>\n",
       "      <td>0.460000</td>\n",
       "      <td>0.000000</td>\n",
       "      <td>0.385000</td>\n",
       "      <td>3.561000</td>\n",
       "      <td>2.900000</td>\n",
       "      <td>1.129600</td>\n",
       "      <td>1.000000</td>\n",
       "      <td>187.000000</td>\n",
       "      <td>12.600000</td>\n",
       "      <td>0.320000</td>\n",
       "      <td>1.730000</td>\n",
       "      <td>5.000000</td>\n",
       "    </tr>\n",
       "    <tr>\n",
       "      <th>25%</th>\n",
       "      <td>0.082045</td>\n",
       "      <td>0.000000</td>\n",
       "      <td>5.190000</td>\n",
       "      <td>0.000000</td>\n",
       "      <td>0.449000</td>\n",
       "      <td>5.885500</td>\n",
       "      <td>45.025000</td>\n",
       "      <td>2.100175</td>\n",
       "      <td>4.000000</td>\n",
       "      <td>279.000000</td>\n",
       "      <td>17.400000</td>\n",
       "      <td>375.377500</td>\n",
       "      <td>6.950000</td>\n",
       "      <td>17.025000</td>\n",
       "    </tr>\n",
       "    <tr>\n",
       "      <th>50%</th>\n",
       "      <td>0.256510</td>\n",
       "      <td>0.000000</td>\n",
       "      <td>9.690000</td>\n",
       "      <td>0.000000</td>\n",
       "      <td>0.538000</td>\n",
       "      <td>6.208500</td>\n",
       "      <td>77.500000</td>\n",
       "      <td>3.207450</td>\n",
       "      <td>5.000000</td>\n",
       "      <td>330.000000</td>\n",
       "      <td>19.050000</td>\n",
       "      <td>391.440000</td>\n",
       "      <td>11.360000</td>\n",
       "      <td>21.200000</td>\n",
       "    </tr>\n",
       "    <tr>\n",
       "      <th>75%</th>\n",
       "      <td>3.677083</td>\n",
       "      <td>12.500000</td>\n",
       "      <td>18.100000</td>\n",
       "      <td>0.000000</td>\n",
       "      <td>0.624000</td>\n",
       "      <td>6.623500</td>\n",
       "      <td>94.075000</td>\n",
       "      <td>5.188425</td>\n",
       "      <td>24.000000</td>\n",
       "      <td>666.000000</td>\n",
       "      <td>20.200000</td>\n",
       "      <td>396.225000</td>\n",
       "      <td>16.955000</td>\n",
       "      <td>25.000000</td>\n",
       "    </tr>\n",
       "    <tr>\n",
       "      <th>max</th>\n",
       "      <td>88.976200</td>\n",
       "      <td>100.000000</td>\n",
       "      <td>27.740000</td>\n",
       "      <td>1.000000</td>\n",
       "      <td>0.871000</td>\n",
       "      <td>8.780000</td>\n",
       "      <td>100.000000</td>\n",
       "      <td>12.126500</td>\n",
       "      <td>24.000000</td>\n",
       "      <td>711.000000</td>\n",
       "      <td>22.000000</td>\n",
       "      <td>396.900000</td>\n",
       "      <td>37.970000</td>\n",
       "      <td>50.000000</td>\n",
       "    </tr>\n",
       "  </tbody>\n",
       "</table>\n",
       "</div>"
      ],
      "text/plain": [
       "             CRIM          ZN       INDUS        CHAS         NOX          RM  \\\n",
       "count  506.000000  506.000000  506.000000  506.000000  506.000000  506.000000   \n",
       "mean     3.613524   11.363636   11.136779    0.069170    0.554695    6.284634   \n",
       "std      8.601545   23.322453    6.860353    0.253994    0.115878    0.702617   \n",
       "min      0.006320    0.000000    0.460000    0.000000    0.385000    3.561000   \n",
       "25%      0.082045    0.000000    5.190000    0.000000    0.449000    5.885500   \n",
       "50%      0.256510    0.000000    9.690000    0.000000    0.538000    6.208500   \n",
       "75%      3.677083   12.500000   18.100000    0.000000    0.624000    6.623500   \n",
       "max     88.976200  100.000000   27.740000    1.000000    0.871000    8.780000   \n",
       "\n",
       "              AGE         DIS         RAD         TAX     PTRATIO           B  \\\n",
       "count  506.000000  506.000000  506.000000  506.000000  506.000000  506.000000   \n",
       "mean    68.574901    3.795043    9.549407  408.237154   18.455534  356.674032   \n",
       "std     28.148861    2.105710    8.707259  168.537116    2.164946   91.294864   \n",
       "min      2.900000    1.129600    1.000000  187.000000   12.600000    0.320000   \n",
       "25%     45.025000    2.100175    4.000000  279.000000   17.400000  375.377500   \n",
       "50%     77.500000    3.207450    5.000000  330.000000   19.050000  391.440000   \n",
       "75%     94.075000    5.188425   24.000000  666.000000   20.200000  396.225000   \n",
       "max    100.000000   12.126500   24.000000  711.000000   22.000000  396.900000   \n",
       "\n",
       "            LSTAT      target  \n",
       "count  506.000000  506.000000  \n",
       "mean    12.653063   22.532806  \n",
       "std      7.141062    9.197104  \n",
       "min      1.730000    5.000000  \n",
       "25%      6.950000   17.025000  \n",
       "50%     11.360000   21.200000  \n",
       "75%     16.955000   25.000000  \n",
       "max     37.970000   50.000000  "
      ]
     },
     "metadata": {},
     "execution_count": 65
    }
   ],
   "metadata": {}
  },
  {
   "cell_type": "code",
   "execution_count": 66,
   "source": [
    "# Question 1: Find the mean of the \"target\" values in the dataframe (boston_df)  \r\n",
    "#             Assign the answer to ans[0] \r\n",
    "#             eg. ans[0] = 24.976534890123 (if mean obtained = 24.976534890123)"
   ],
   "outputs": [],
   "metadata": {
    "id": "cwI6sE7cc7rW"
   }
  },
  {
   "cell_type": "code",
   "execution_count": 67,
   "source": [
    "# Your Code: Enter your Code below\r\n",
    "print(\"Mean of the target variable: \", boston_df[\"target\"].mean())"
   ],
   "outputs": [
    {
     "output_type": "stream",
     "name": "stdout",
     "text": [
      "Mean of the target variable:  22.532806324110677\n"
     ]
    }
   ],
   "metadata": {
    "id": "6qulRo1fdtIk"
   }
  },
  {
   "cell_type": "code",
   "execution_count": 68,
   "source": [
    "#1 mark\r\n",
    "ans[0] = boston_df[\"target\"].mean()"
   ],
   "outputs": [],
   "metadata": {
    "id": "frZm9rnmdwIs"
   }
  },
  {
   "cell_type": "code",
   "execution_count": 69,
   "source": [
    "# Just to get a look into distribution of data into datasets\r\n",
    "# Plot a histogram for boston_df\r\n",
    "boston_df.hist(figsize=(15,15))\r\n",
    "plt.tight_layout()\r\n",
    "plt.show()"
   ],
   "outputs": [
    {
     "output_type": "display_data",
     "data": {
      "image/png": "[encoded data removed]",
      "text/plain": [
       "<Figure size 1080x1080 with 16 Axes>"
      ]
     },
     "metadata": {
      "needs_background": "light"
     }
    }
   ],
   "metadata": {
    "id": "Dj2qsMWaeb9c"
   }
  },
  {
   "cell_type": "markdown",
   "source": [
    "**Splitting the data using train_test_split from sklearn library**"
   ],
   "metadata": {
    "id": "1iO7S9qNfacW"
   }
  },
  {
   "cell_type": "code",
   "execution_count": 70,
   "source": [
    "# Import machine learning libraries  for train_test_split\r\n",
    "from sklearn.model_selection import train_test_split\r\n",
    "\r\n",
    "# Split the data into X and Y\r\n",
    "X = boston_df.iloc[:,:-1]\r\n",
    "y = boston_df.iloc[:,-1]\r\n",
    "\r\n",
    "# Spliting our data further into train and test (train-90% and test-10%)\r\n",
    "# Use (randon_state = 42) in train_test_split, so that your answer can be evaluated\r\n",
    "\r\n",
    "X_train, X_test, y_train, y_test = train_test_split(X, y, test_size=0.1, random_state=42)\r\n"
   ],
   "outputs": [],
   "metadata": {
    "id": "cMrk3mX0fU4K"
   }
  },
  {
   "cell_type": "markdown",
   "source": [
    "**LINEAR REGRESSION**"
   ],
   "metadata": {
    "id": "4XLXVoPyjrJw"
   }
  },
  {
   "cell_type": "code",
   "execution_count": 71,
   "source": [
    "# Question 2: Find mean squared error on the test set and the linear regression intercept(b)  \r\n",
    "#             Assign the answer to ans[0] in the form of a list \r\n",
    "#             eg. ans[1] = [78.456398468,34.276498234098] \r\n",
    "#                  here , mean squared error             = 78.456398468\r\n",
    "#                         linear regression intercept(b) = 34.276498234098\r\n",
    "from sklearn.linear_model import LinearRegression\r\n",
    "from sklearn import metrics"
   ],
   "outputs": [],
   "metadata": {
    "id": "RfTvZ73seyrG"
   }
  },
  {
   "cell_type": "code",
   "execution_count": 72,
   "source": [
    "# Fit a linear regression model on the above training data and find MSE over the test set.\r\n",
    "# Your Code: Enter your Code below\r\n",
    "reg = LinearRegression()\r\n",
    "reg.fit(X_train, y_train)\r\n",
    "\r\n",
    "print(\"Slope: \", reg.coef_)\r\n",
    "print(\"Intercept: \", reg.intercept_)\r\n",
    "\r\n",
    "pred = reg.predict(X_test)\r\n",
    "mean_squared_error=metrics.mean_squared_error(y_test,pred)\r\n",
    "print(\"MSE: \", mean_squared_error)"
   ],
   "outputs": [
    {
     "output_type": "stream",
     "name": "stdout",
     "text": [
      "Slope:  [-1.19886262e-01  3.99134691e-02  2.12938504e-02  2.77565167e+00\n",
      " -1.85854960e+01  3.75579160e+00  4.57076424e-03 -1.47064595e+00\n",
      "  3.11878023e-01 -1.18109903e-02 -9.47556337e-01  1.03287982e-02\n",
      " -5.50096256e-01]\n",
      "Intercept:  36.73146277462445\n",
      "MSE:  14.995852876582417\n"
     ]
    }
   ],
   "metadata": {
    "id": "LT0LxSNkg-JM"
   }
  },
  {
   "cell_type": "code",
   "execution_count": 73,
   "source": [
    "# 2 marks\r\n",
    "ans[1] = [mean_squared_error, reg.intercept_]"
   ],
   "outputs": [],
   "metadata": {
    "id": "qY56e1hphB8d"
   }
  },
  {
   "cell_type": "markdown",
   "source": [
    "**RIDGE REGRESSION**"
   ],
   "metadata": {
    "id": "3z9nfNuTjytb"
   }
  },
  {
   "cell_type": "code",
   "execution_count": 74,
   "source": [
    "# Question 3: For what value of lambda (alpha)(in the list[0.5,1,5,10,50,100]) will we have least value of the mean squared error of testing set \r\n",
    "#             Take lambda (alpha) values as specified i.e. [0.5,1,5,10,50,100]\r\n",
    "#             Assign the answer to ans[2]  \r\n",
    "#             eg. ans[1] = 5  (if  lambda(alpha)=5)\r\n",
    "from sklearn.linear_model import Ridge, Lasso"
   ],
   "outputs": [],
   "metadata": {
    "id": "PIDR1n1oiu_R"
   }
  },
  {
   "cell_type": "code",
   "execution_count": 75,
   "source": [
    "# Your Code: Enter your Code below\r\n",
    "alphas = [0.5,1,5,10,50,100]\r\n",
    "min_alpha = 0\r\n",
    "min_intercept = 0\r\n",
    "min_mse = np.inf\r\n",
    "for alpha in alphas:\r\n",
    "    reg = Ridge(alpha=alpha)\r\n",
    "    reg.fit(X_train, y_train)\r\n",
    "    #print(\"Slope: \", reg.coef_)\r\n",
    "    #print(\"Intercept: \", reg.intercept_)\r\n",
    "\r\n",
    "    pred = reg.predict(X_test)\r\n",
    "    mean_squared_error=metrics.mean_squared_error(y_test,pred)\r\n",
    "    if(min_mse > mean_squared_error):\r\n",
    "        min_mse = mean_squared_error\r\n",
    "        min_alpha = alpha\r\n",
    "        min_intercept = reg.intercept_\r\n",
    "\r\n",
    "print(\"alpha with minimum mse: \", min_alpha)\r\n",
    "print(\"Intercept with minimm mse: \", min_intercept)\r\n",
    "print(\"Minimum mse: \", min_mse)"
   ],
   "outputs": [
    {
     "output_type": "stream",
     "name": "stdout",
     "text": [
      "alpha with minimum mse:  1\n",
      "Intercept with minimm mse:  31.46553530597604\n",
      "Minimum mse:  14.775452511215368\n"
     ]
    }
   ],
   "metadata": {
    "id": "ATc4RAyBlZCH"
   }
  },
  {
   "cell_type": "code",
   "execution_count": 76,
   "source": [
    "#1 mark\r\n",
    "ans[2] = min_alpha"
   ],
   "outputs": [],
   "metadata": {
    "id": "7VdjPtqilhAJ"
   }
  },
  {
   "cell_type": "code",
   "execution_count": 77,
   "source": [
    "# Question 4: Find mean squared error on the test set and the Ridge regression intercept(b)\r\n",
    "#             Use the lamba(alpha) value obtained from question-3 \r\n",
    "#             Assign the answer to ans[3] in the form of a list \r\n",
    "#             eg. ans[3] = [45.456398468,143.276498234098] \r\n",
    "#                  here , mean squared error             = 45.456398468\r\n",
    "#                         Ridge regression intercept(b) = 143.276498234098\r\n"
   ],
   "outputs": [],
   "metadata": {
    "id": "UsOpPn5Olkm-"
   }
  },
  {
   "cell_type": "code",
   "execution_count": 78,
   "source": [
    "# Your Code: Enter your Code below"
   ],
   "outputs": [],
   "metadata": {
    "id": "icg9MI6ZlkyO"
   }
  },
  {
   "cell_type": "code",
   "execution_count": 79,
   "source": [
    "# 2 marks\r\n",
    "ans[3] = [min_mse, min_intercept]"
   ],
   "outputs": [],
   "metadata": {
    "id": "0A2scygllk9a"
   }
  },
  {
   "cell_type": "code",
   "execution_count": 81,
   "source": [
    "# Plot the coefficient of the features( CRIM , INDUS , NOX ) with respective to  the lambda values specified [0.5,1,5,10,50,100]\r\n",
    "# Enter your code below\r\n",
    "for alpha in alphas:\r\n",
    "    reg = Ridge(alpha=alpha)\r\n",
    "    reg.fit(X_train, y_train)\r\n",
    "    \r\n",
    "    print(\"Coefficients of features (CRIM , INDUS , NOX): \", (reg.coef_[0], reg.coef_[2], reg.coef_[4]),\"For alpha: \", alpha)\r\n",
    "    pred = reg.predict(X_test)\r\n",
    "    mean_squared_error=metrics.mean_squared_error(y_test,pred)"
   ],
   "outputs": [
    {
     "output_type": "stream",
     "name": "stdout",
     "text": [
      "Coefficients of features (CRIM , INDUS , NOX):  (-0.11738995073267473, -0.0003424700436380494, -13.653153154778343) For alpha:  0.5\n",
      "Coefficients of features (CRIM , INDUS , NOX):  (-0.11598197247309236, -0.012877737175692622, -10.787751422169373) For alpha:  1\n",
      "Coefficients of features (CRIM , INDUS , NOX):  (-0.1131364606834513, -0.042240667407635275, -4.018492336732222) For alpha:  5\n",
      "Coefficients of features (CRIM , INDUS , NOX):  (-0.11289321764919515, -0.049944067843783344, -2.246959376575348) For alpha:  10\n",
      "Coefficients of features (CRIM , INDUS , NOX):  (-0.11406519440479372, -0.061168608384275916, -0.4890863639534774) For alpha:  50\n",
      "Coefficients of features (CRIM , INDUS , NOX):  (-0.11407822940747962, -0.06520435154959144, -0.24151983650037495) For alpha:  100\n"
     ]
    }
   ],
   "metadata": {
    "id": "CiIbohqZllIw"
   }
  },
  {
   "cell_type": "markdown",
   "source": [
    "**LASSO REGRESSION**"
   ],
   "metadata": {
    "id": "lvyrdYaEm0yq"
   }
  },
  {
   "cell_type": "code",
   "execution_count": 82,
   "source": [
    "# Question 5: For lambda (alpha)=1 find the lasso regression intercept and the test set mean squared error\r\n",
    "#             Assign the answer to ans[4] in the form of a list \r\n",
    "#             eg. ans[4] = [35.456398468,14.276498234098] \r\n",
    "#                  here , mean squared error             = 35.456398468\r\n",
    "#                         lasso regression intercept(b) = 14.276498234098\r\n"
   ],
   "outputs": [],
   "metadata": {
    "id": "wZRhaPXamn5d"
   }
  },
  {
   "cell_type": "code",
   "execution_count": 83,
   "source": [
    "# Your Code: Enter your Code below\r\n",
    "reg = Lasso(alpha=alpha)\r\n",
    "reg.fit(X_train, y_train)\r\n",
    "\r\n",
    "print(\"Slope: \", reg.coef_)\r\n",
    "print(\"Intercept: \", reg.intercept_)\r\n",
    "\r\n",
    "pred = reg.predict(X_test)\r\n",
    "mean_squared_error=metrics.mean_squared_error(y_test,pred)\r\n",
    "print(\"MSE: \", mean_squared_error)"
   ],
   "outputs": [
    {
     "output_type": "stream",
     "name": "stdout",
     "text": [
      "Slope:  [-0.          0.         -0.          0.         -0.          0.\n",
      " -0.          0.         -0.         -0.02098484 -0.          0.00534476\n",
      " -0.        ]\n",
      "Intercept:  29.356658368169235\n",
      "MSE:  48.66225673313524\n"
     ]
    }
   ],
   "metadata": {
    "id": "J7nwJ_11n9YP"
   }
  },
  {
   "cell_type": "code",
   "execution_count": 84,
   "source": [
    "#2 mark\r\n",
    "ans[4] = [mean_squared_error, reg.intercept_]"
   ],
   "outputs": [],
   "metadata": {
    "id": "vOMlK2izoCLX"
   }
  },
  {
   "cell_type": "code",
   "execution_count": 85,
   "source": [
    "# Question 6: Find the most  important feature  in the data set i.e. which feature coefficient is further most non zero if lambda is increased gradually\r\n",
    "#             let CRIM=1,\tZN=2, INDUS=3,\tCHAS=4,\tNOX=5,\tRM=6,\tAGE=7,\tDIS=8,\tRAD=9,\tTAX=10,\tPTRATIO=11,\tB=12,\tLSTAT=13\r\n",
    "#              eg. if your answer is \"CHAS\"\r\n",
    "#                   then your answer should be ans[5]=4"
   ],
   "outputs": [],
   "metadata": {
    "id": "JTpJ20VFoJR9"
   }
  },
  {
   "cell_type": "code",
   "execution_count": 86,
   "source": [
    "def findImportantFeature(arr):\r\n",
    "    arr = np.abs(arr)\r\n",
    "    max_val = max(arr)\r\n",
    "    max_index = np.where(arr == max_val)[0]\r\n",
    "    print(\"For alpha:\", alpha, \"   Important feature:\", max_index[0]+1, \"   absolute coefficient:\", max_val)\r\n",
    "    return (max_val, max_index[0]+1)"
   ],
   "outputs": [],
   "metadata": {}
  },
  {
   "cell_type": "code",
   "execution_count": 87,
   "source": [
    "# Your Code: Enter your Code below\r\n",
    "# Your Code: Enter your Code below\r\n",
    "alphas = [0.5,1,5,10,50,100]\r\n",
    "for alpha in alphas:\r\n",
    "    reg = Lasso(alpha=alpha)\r\n",
    "    reg.fit(X_train, y_train)\r\n",
    "\r\n",
    "    max_coeff = findImportantFeature(reg.coef_)\r\n",
    "\r\n",
    "print(\"Column no. of most important feature is: \", max_coeff[1])"
   ],
   "outputs": [
    {
     "output_type": "stream",
     "name": "stdout",
     "text": [
      "For alpha: 0.5    Important feature: 6    absolute coefficient: 2.4879849183467586\n",
      "For alpha: 1    Important feature: 6    absolute coefficient: 1.0104474148397145\n",
      "For alpha: 5    Important feature: 13    absolute coefficient: 0.7713215993638257\n",
      "For alpha: 10    Important feature: 13    absolute coefficient: 0.5894494970971172\n",
      "For alpha: 50    Important feature: 10    absolute coefficient: 0.021401164058451834\n",
      "For alpha: 100    Important feature: 10    absolute coefficient: 0.020984839488444464\n",
      "Column no. of most important feature is:  10\n"
     ]
    }
   ],
   "metadata": {
    "id": "KvVVoXKAoJUs"
   }
  },
  {
   "cell_type": "code",
   "execution_count": 88,
   "source": [
    "#2 marks\r\n",
    "ans[5] = max_coeff[1]"
   ],
   "outputs": [],
   "metadata": {
    "id": "N2sv3k_WoJYA"
   }
  },
  {
   "cell_type": "markdown",
   "source": [
    "Run the below cell only once u complete answering all the above answers \n"
   ],
   "metadata": {
    "id": "VURqrMMKwXv1"
   }
  },
  {
   "cell_type": "code",
   "execution_count": 89,
   "source": [
    "##do not change this code\r\n",
    "import json\r\n",
    "ans = [str(item) for item in ans]\r\n",
    "\r\n",
    "filename = \"152amarnath@gmail.com_Amarnath_Reddy_RidgeRegression\"\r\n",
    "\r\n",
    "# Eg if your name is Saurav Joshi and email id is sauravjoshi123@gmail.com, filename becomes\r\n",
    "# filename = sauravjoshi123@gmail.com_Saurav_Joshi_LinearRegression"
   ],
   "outputs": [],
   "metadata": {
    "id": "Ca9lfXvCwSd0"
   }
  },
  {
   "cell_type": "markdown",
   "source": [
    "## Do not change anything below!!\n",
    "- Make sure you have changed the above variable \"filename\" with the correct value. Do not change anything below!!"
   ],
   "metadata": {}
  },
  {
   "cell_type": "code",
   "execution_count": 90,
   "source": [
    "from importlib import import_module\r\n",
    "import os\r\n",
    "from pprint import pprint\r\n",
    "\r\n",
    "findScore = import_module('findScore')\r\n",
    "response = findScore.main(ans)\r\n",
    "response['details'] = filename\r\n",
    "with open(f'evaluation_{filename}.json', 'w') as outfile:\r\n",
    "    json.dump(response, outfile)\r\n",
    "pprint(response)"
   ],
   "outputs": [
    {
     "output_type": "stream",
     "name": "stdout",
     "text": [
      "{'Comments': 'Please make sure the Python script you are submitting is not '\n",
      "             'having errors. Try running before submitting',\n",
      " 'Message': 'Successfully submitted! Thanks for taking the exercise',\n",
      " 'details': '152amarnath@gmail.com_Amarnath_Reddy_RidgeRegression',\n",
      " 'status': 'Success'}\n"
     ]
    }
   ],
   "metadata": {}
  }
 ],
 "metadata": {
  "colab": {
   "authorship_tag": "ABX9TyOSADKalWfp29ocvPN7fonY",
   "name": "unit5_Begin.ipynb",
   "provenance": []
  },
  "kernelspec": {
   "name": "python3",
   "display_name": "Python 3.8.10 64-bit (windows store)"
  },
  "language_info": {
   "codemirror_mode": {
    "name": "ipython",
    "version": 3
   },
   "file_extension": ".py",
   "mimetype": "text/x-python",
   "name": "python",
   "nbconvert_exporter": "python",
   "pygments_lexer": "ipython3",
   "version": "3.8.10"
  },
  "interpreter": {
   "hash": "5402f4e6f5ccfdb307864f8591a1b8f3786429e9057b8ed09fe1dd7f0856445e"
  }
 },
 "nbformat": 4,
 "nbformat_minor": 1
}