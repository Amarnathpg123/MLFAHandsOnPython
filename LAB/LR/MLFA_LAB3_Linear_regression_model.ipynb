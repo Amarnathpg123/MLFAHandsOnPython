{
 "cells": [
  {
   "cell_type": "markdown",
   "source": [
    "# Linear Regression\n",
    "\n",
    "In statistics, linear regression is a linear approach to modeling the relationship between a scalar output label (or dependent variable) and one or more explanatory variables (or features/attributes). The case of one explanatory variable is called a simple linear regression.\n",
    "\n",
    "We will understand it with a practice example, Steps we are going to follow are :\n",
    "1. Importing important libraries\n",
    "2. Importing the data\n",
    "3. Feature selection\n",
    "4. Data visualization\n",
    "5. Finding weight (slope) and bias (intercept) of the fitting line for single feature variable\n",
    "6. Visualizing the fitted line\n",
    "7. Finding weight (slope) and bias (intercept) of the fitting line for multiple feature variables\n",
    "8. Comparing fitted line obtained from scikit-learn model (A machine learning library)"
   ],
   "metadata": {}
  },
  {
   "cell_type": "markdown",
   "source": [
    "**1. Importing important libraries**"
   ],
   "metadata": {}
  },
  {
   "cell_type": "code",
   "execution_count": 1,
   "source": [
    "# IMporting importatnt libraries\r\n",
    "import pandas as pd\r\n",
    "import numpy as np\r\n",
    "import matplotlib.pyplot as plt\r\n",
    "\r\n",
    "# Importing model\r\n",
    "from sklearn.linear_model import LinearRegression"
   ],
   "outputs": [],
   "metadata": {}
  },
  {
   "cell_type": "markdown",
   "source": [
    "**2. Importing Data.**\n"
   ],
   "metadata": {}
  },
  {
   "cell_type": "markdown",
   "source": [
    "Importing the required data for the prediction of sales is taken from kaggle.\n",
    "\n",
    "Link to the dataset --> https://www.kaggle.com/sazid28/advertising.csv"
   ],
   "metadata": {}
  },
  {
   "cell_type": "code",
   "execution_count": 2,
   "source": [
    "#read the file and store as dataframe\r\n",
    "data = pd.read_csv('Advertising.csv', index_col=[0])\r\n",
    "\r\n",
    "# Let's see the top five rows of the dataset\r\n",
    "data.head()"
   ],
   "outputs": [
    {
     "output_type": "execute_result",
     "data": {
      "text/html": [
       "<div>\n",
       "<style scoped>\n",
       "    .dataframe tbody tr th:only-of-type {\n",
       "        vertical-align: middle;\n",
       "    }\n",
       "\n",
       "    .dataframe tbody tr th {\n",
       "        vertical-align: top;\n",
       "    }\n",
       "\n",
       "    .dataframe thead th {\n",
       "        text-align: right;\n",
       "    }\n",
       "</style>\n",
       "<table border=\"1\" class=\"dataframe\">\n",
       "  <thead>\n",
       "    <tr style=\"text-align: right;\">\n",
       "      <th></th>\n",
       "      <th>TV</th>\n",
       "      <th>radio</th>\n",
       "      <th>newspaper</th>\n",
       "      <th>sales</th>\n",
       "    </tr>\n",
       "  </thead>\n",
       "  <tbody>\n",
       "    <tr>\n",
       "      <th>1</th>\n",
       "      <td>230.1</td>\n",
       "      <td>37.8</td>\n",
       "      <td>69.2</td>\n",
       "      <td>22.1</td>\n",
       "    </tr>\n",
       "    <tr>\n",
       "      <th>2</th>\n",
       "      <td>44.5</td>\n",
       "      <td>39.3</td>\n",
       "      <td>45.1</td>\n",
       "      <td>10.4</td>\n",
       "    </tr>\n",
       "    <tr>\n",
       "      <th>3</th>\n",
       "      <td>17.2</td>\n",
       "      <td>45.9</td>\n",
       "      <td>69.3</td>\n",
       "      <td>9.3</td>\n",
       "    </tr>\n",
       "    <tr>\n",
       "      <th>4</th>\n",
       "      <td>151.5</td>\n",
       "      <td>41.3</td>\n",
       "      <td>58.5</td>\n",
       "      <td>18.5</td>\n",
       "    </tr>\n",
       "    <tr>\n",
       "      <th>5</th>\n",
       "      <td>180.8</td>\n",
       "      <td>10.8</td>\n",
       "      <td>58.4</td>\n",
       "      <td>12.9</td>\n",
       "    </tr>\n",
       "  </tbody>\n",
       "</table>\n",
       "</div>"
      ],
      "text/plain": [
       "      TV  radio  newspaper  sales\n",
       "1  230.1   37.8       69.2   22.1\n",
       "2   44.5   39.3       45.1   10.4\n",
       "3   17.2   45.9       69.3    9.3\n",
       "4  151.5   41.3       58.5   18.5\n",
       "5  180.8   10.8       58.4   12.9"
      ]
     },
     "metadata": {},
     "execution_count": 2
    }
   ],
   "metadata": {}
  },
  {
   "cell_type": "markdown",
   "source": [
    "**3. Feature Selection.**"
   ],
   "metadata": {}
  },
  {
   "cell_type": "code",
   "execution_count": 3,
   "source": [
    "# Columns we have\r\n",
    "data.columns"
   ],
   "outputs": [
    {
     "output_type": "execute_result",
     "data": {
      "text/plain": [
       "Index(['TV', 'radio', 'newspaper', 'sales'], dtype='object')"
      ]
     },
     "metadata": {},
     "execution_count": 3
    }
   ],
   "metadata": {}
  },
  {
   "cell_type": "code",
   "execution_count": 4,
   "source": [
    "# First we will implement a single variable linear regression model\r\n",
    "# Let's take Tv  as our variable to find the sales\r\n",
    "\r\n",
    "price_data=data[['TV', 'sales']]\r\n",
    "price_data.head()"
   ],
   "outputs": [
    {
     "output_type": "execute_result",
     "data": {
      "text/html": [
       "<div>\n",
       "<style scoped>\n",
       "    .dataframe tbody tr th:only-of-type {\n",
       "        vertical-align: middle;\n",
       "    }\n",
       "\n",
       "    .dataframe tbody tr th {\n",
       "        vertical-align: top;\n",
       "    }\n",
       "\n",
       "    .dataframe thead th {\n",
       "        text-align: right;\n",
       "    }\n",
       "</style>\n",
       "<table border=\"1\" class=\"dataframe\">\n",
       "  <thead>\n",
       "    <tr style=\"text-align: right;\">\n",
       "      <th></th>\n",
       "      <th>TV</th>\n",
       "      <th>sales</th>\n",
       "    </tr>\n",
       "  </thead>\n",
       "  <tbody>\n",
       "    <tr>\n",
       "      <th>1</th>\n",
       "      <td>230.1</td>\n",
       "      <td>22.1</td>\n",
       "    </tr>\n",
       "    <tr>\n",
       "      <th>2</th>\n",
       "      <td>44.5</td>\n",
       "      <td>10.4</td>\n",
       "    </tr>\n",
       "    <tr>\n",
       "      <th>3</th>\n",
       "      <td>17.2</td>\n",
       "      <td>9.3</td>\n",
       "    </tr>\n",
       "    <tr>\n",
       "      <th>4</th>\n",
       "      <td>151.5</td>\n",
       "      <td>18.5</td>\n",
       "    </tr>\n",
       "    <tr>\n",
       "      <th>5</th>\n",
       "      <td>180.8</td>\n",
       "      <td>12.9</td>\n",
       "    </tr>\n",
       "  </tbody>\n",
       "</table>\n",
       "</div>"
      ],
      "text/plain": [
       "      TV  sales\n",
       "1  230.1   22.1\n",
       "2   44.5   10.4\n",
       "3   17.2    9.3\n",
       "4  151.5   18.5\n",
       "5  180.8   12.9"
      ]
     },
     "metadata": {},
     "execution_count": 4
    }
   ],
   "metadata": {}
  },
  {
   "cell_type": "markdown",
   "source": [
    "**4. Data Visualization.**\n",
    "\n",
    "Before we start with the linear regression, we should check if our dependent and independent variables are linearly related or not. We can check it on scatter plot:"
   ],
   "metadata": {}
  },
  {
   "cell_type": "code",
   "execution_count": 5,
   "source": [
    "#Let's distribute our house price data set into X(Feature variable, area of the house) and y(the price of the house) \r\n",
    "\r\n",
    "X=price_data['TV']\r\n",
    "y=price_data['sales']\r\n",
    "\r\n",
    "# Let's plot it and try to visualize the data\r\n",
    "# Plot blank figure with the axis\r\n",
    "figure, ax =plt.subplots()\r\n",
    "\r\n",
    "# Plot a scatter plot for feature\r\n",
    "ax.scatter(X, y, color='green')\r\n",
    "\r\n",
    "# Set titles and axis labels\r\n",
    "ax.set_title('Effect of advertisement on sales')\r\n",
    "ax.set_xlabel('Advertisement on TV')\r\n",
    "ax.set_ylabel('sales')\r\n",
    "\r\n",
    "# Set legends\r\n",
    "ax.legend(labels=['(TV, sales)']);"
   ],
   "outputs": [
    {
     "output_type": "display_data",
     "data": {
      "image/png": "[encoded data removed]",
      "text/plain": [
       "<Figure size 432x288 with 1 Axes>"
      ]
     },
     "metadata": {
      "needs_background": "light"
     }
    }
   ],
   "metadata": {}
  },
  {
   "cell_type": "markdown",
   "source": [
    "From the above graph, we can see that feature variable is linearly related with dependent variable"
   ],
   "metadata": {}
  },
  {
   "cell_type": "markdown",
   "source": [
    "**5. Finding weight(slope) and constant(intercept) of the fitting line.**"
   ],
   "metadata": {}
  },
  {
   "cell_type": "markdown",
   "source": [
    "To find the fitting line `y=w*X + b` we have to find out the value of `w`( the slope of the line) and `b` (intercept of the line) by the Least Square fitting method:\r\n",
    "\r\n",
    "![title](least_square_fitting.jpg)\r\n",
    "\r\n",
    "Where:\r\n",
    "* `x bar` = mean of X\r\n",
    "* `y bar` = mean of y"
   ],
   "metadata": {}
  },
  {
   "cell_type": "code",
   "execution_count": 7,
   "source": [
    "# finding X_mean and y_mean\r\n",
    "\r\n",
    "X_mean = X.mean()\r\n",
    "y_mean = y.mean()\r\n",
    "\r\n",
    "# finding th value of m and c\r\n",
    "denominator=0\r\n",
    "numerator=0\r\n",
    "for i in range(1, len(X)+1):\r\n",
    "    numerator+=(X[i] - X_mean)*(y[i] - y_mean)\r\n",
    "    denominator+=(X[i] - X_mean)**2\r\n",
    "    \r\n",
    "w = numerator/denominator\r\n",
    "b = y_mean - X_mean * w\r\n",
    "print(f'The value of slope(w): {w*1:.2f}')  # value of slope(m) upto two decimal place\r\n",
    "print(f'The value of intercept(b): {b:.2f}')  # value of intercept(c) upto two decimal place"
   ],
   "outputs": [
    {
     "output_type": "stream",
     "name": "stdout",
     "text": [
      "The value of slope(w): 0.05\n",
      "The value of intercept(b): 7.03\n"
     ]
    }
   ],
   "metadata": {}
  },
  {
   "cell_type": "markdown",
   "source": [
    "**6. Visualizing fitting line.**"
   ],
   "metadata": {}
  },
  {
   "cell_type": "code",
   "execution_count": 8,
   "source": [
    "# Let's draw the fitting line into the House pricing dataset.\r\n",
    "# Make a figure with axis \r\n",
    "figure1, ax =plt.subplots()\r\n",
    "\r\n",
    "# Plot feature\r\n",
    "ax.scatter(X, y, color='red')\r\n",
    "\r\n",
    "# Set title and axis labels\r\n",
    "ax.set_title('Effect of advertisement on sales')\r\n",
    "ax.set_xlabel('Advertisement on TV')\r\n",
    "ax.set_ylabel('sales')\r\n",
    "\r\n",
    "# Plot fitting line\r\n",
    "y_axis = w* X + b\r\n",
    "ax.plot(X, y_axis)\r\n",
    "\r\n",
    "# Set Legends\r\n",
    "ax.legend(labels=['fitting line', 'scatter plot']);"
   ],
   "outputs": [
    {
     "output_type": "display_data",
     "data": {
      "image/png": "[encoded data removed]",
      "text/plain": [
       "<Figure size 432x288 with 1 Axes>"
      ]
     },
     "metadata": {
      "needs_background": "light"
     }
    }
   ],
   "metadata": {
    "scrolled": true
   }
  },
  {
   "cell_type": "markdown",
   "source": [
    "**7. Finding weights and constants for multi-variable Linear regression problem using vector formulation**"
   ],
   "metadata": {}
  },
  {
   "cell_type": "code",
   "execution_count": 17,
   "source": [
    "#importing data\r\n",
    "data1=data[['TV', 'radio', 'newspaper']]\r\n",
    "\r\n",
    "# including a column of one to find the value of intercept simultaneously\r\n",
    "data1['ones']=pd.DataFrame([1]*(len(data)+1));\r\n",
    "#data1.head()"
   ],
   "outputs": [],
   "metadata": {
    "scrolled": true
   }
  },
  {
   "cell_type": "code",
   "execution_count": 18,
   "source": [
    "# converting into array form to do matrix multiplication to find out weights using the vector method.\r\n",
    "X=np.array(data1)\r\n",
    "y=np.array(data['sales'])"
   ],
   "outputs": [],
   "metadata": {}
  },
  {
   "cell_type": "markdown",
   "source": [
    "Mathemtical formulation for finding out weights for the 3 features is:\n",
    "\n",
    "![title](images.png)\n",
    "\n",
    "and then the prediction can be calculated as\n",
    "\n",
    "![title](images2.png)\n"
   ],
   "metadata": {}
  },
  {
   "cell_type": "code",
   "execution_count": 19,
   "source": [
    "# vector multiplication to find weight vector\n",
    "w = np.linalg.inv(np.transpose(X).dot(X)).dot(np.transpose(X)).dot(np.transpose(y))\n",
    "#print(w)\n",
    "#print(X)"
   ],
   "outputs": [],
   "metadata": {}
  },
  {
   "cell_type": "code",
   "execution_count": null,
   "source": [],
   "outputs": [],
   "metadata": {}
  },
  {
   "cell_type": "code",
   "execution_count": 20,
   "source": [
    "print(f'weight(w) vector for our multi feature variables is {w[1:]}')\n",
    "print(f'intercept(b) vector for our multi feature variables is {w[0]:.2f}')"
   ],
   "outputs": [
    {
     "output_type": "stream",
     "name": "stdout",
     "text": [
      "weight(w) vector for our multi feature variables is [ 1.88530017e-01 -1.03749304e-03  2.93888937e+00]\n",
      "intercept(b) vector for our multi feature variables is 0.05\n"
     ]
    }
   ],
   "metadata": {
    "scrolled": true
   }
  },
  {
   "cell_type": "code",
   "execution_count": 23,
   "source": [
    "# Predicting y from the calculated weight and intercept\n",
    "y_pred1 = X.dot(np.transpose(w))"
   ],
   "outputs": [],
   "metadata": {
    "scrolled": true
   }
  },
  {
   "cell_type": "code",
   "execution_count": 27,
   "source": [
    "y_pred1[:5]"
   ],
   "outputs": [
    {
     "output_type": "execute_result",
     "data": {
      "text/plain": [
       "array([20.52397441, 12.33785482, 12.30767078, 17.59782951, 13.18867186])"
      ]
     },
     "metadata": {},
     "execution_count": 27
    }
   ],
   "metadata": {}
  },
  {
   "cell_type": "markdown",
   "source": [
    "you cn find about R2 score from this website:\n",
    "https://www.britannica.com/science/coefficient-of-determination"
   ],
   "metadata": {}
  },
  {
   "cell_type": "code",
   "execution_count": 20,
   "source": [
    "# finding the accuracy\n",
    "from sklearn.metrics import r2_score\n",
    "print(f'accuracy obtained is {r2_score(y, y_pred1)*100:.2f}%')"
   ],
   "outputs": [
    {
     "output_type": "stream",
     "name": "stdout",
     "text": [
      "accuracy obtained is 89.72%\n"
     ]
    }
   ],
   "metadata": {
    "scrolled": true
   }
  },
  {
   "cell_type": "markdown",
   "source": [
    "**8. comparing fitting line obtained from scikit-learn model (A machine learning library)**\n",
    "\n",
    "**Linear regression with single feature variable**"
   ],
   "metadata": {}
  },
  {
   "cell_type": "code",
   "execution_count": 33,
   "source": [
    "# setting a model\n",
    "model1 = LinearRegression()\n",
    "\n",
    "X=data['TV']\n",
    "#print(X[:5])\n",
    "\n",
    "# reshaped 1-D 'X'\n",
    "X = np.array(X)\n",
    "\n",
    "#print(X[:5])\n",
    "X = X.reshape(-1, 1)  \n",
    "\n",
    "#print(X[:5])\n",
    "# Fitting the data into model\n",
    "model1.fit(X, y)\n",
    "\n",
    "#Evaluate our model\n",
    "print(f'Accuracy we obtain from the model is {model1.score(X, y)*100:.2f}%')\n",
    "# predicting y value\n",
    "\n",
    "y_pred2 = model1.predict(X)\n",
    "\n",
    "# plot our predicted price we getting as y_pred with old x we should get the same plot\n",
    "\n",
    "figure2, ax = plt.subplots()\n",
    "ax.scatter(X, y, color='red')\n",
    "ax.plot(X, y_pred2)\n",
    "ax.set_xlabel('No. of Advertisement on TV')\n",
    "ax.set_ylabel('sales')\n",
    "ax.legend(labels=['fitting line', 'scatter plot']);"
   ],
   "outputs": [
    {
     "output_type": "stream",
     "name": "stdout",
     "text": [
      "Accuracy we obtain from the model is 61.19%\n"
     ]
    },
    {
     "output_type": "display_data",
     "data": {
      "image/png": "[encoded data removed]",
      "text/plain": [
       "<Figure size 432x288 with 1 Axes>"
      ]
     },
     "metadata": {
      "needs_background": "light"
     }
    }
   ],
   "metadata": {
    "scrolled": true
   }
  },
  {
   "cell_type": "markdown",
   "source": [
    "**Multi-variable linear regression using scikit-learn library**\n",
    "\n",
    "Here we are going to do a practice problem on multivariate features using machine learning libraries:"
   ],
   "metadata": {}
  },
  {
   "cell_type": "code",
   "execution_count": 23,
   "source": [
    "# obtaining data\n",
    "sales_data = pd.read_csv('Advertising.csv', index_col=[0])\n",
    "sales_data.head()"
   ],
   "outputs": [
    {
     "output_type": "execute_result",
     "data": {
      "text/html": [
       "<div>\n",
       "<style scoped>\n",
       "    .dataframe tbody tr th:only-of-type {\n",
       "        vertical-align: middle;\n",
       "    }\n",
       "\n",
       "    .dataframe tbody tr th {\n",
       "        vertical-align: top;\n",
       "    }\n",
       "\n",
       "    .dataframe thead th {\n",
       "        text-align: right;\n",
       "    }\n",
       "</style>\n",
       "<table border=\"1\" class=\"dataframe\">\n",
       "  <thead>\n",
       "    <tr style=\"text-align: right;\">\n",
       "      <th></th>\n",
       "      <th>TV</th>\n",
       "      <th>radio</th>\n",
       "      <th>newspaper</th>\n",
       "      <th>sales</th>\n",
       "    </tr>\n",
       "  </thead>\n",
       "  <tbody>\n",
       "    <tr>\n",
       "      <th>1</th>\n",
       "      <td>230.1</td>\n",
       "      <td>37.8</td>\n",
       "      <td>69.2</td>\n",
       "      <td>22.1</td>\n",
       "    </tr>\n",
       "    <tr>\n",
       "      <th>2</th>\n",
       "      <td>44.5</td>\n",
       "      <td>39.3</td>\n",
       "      <td>45.1</td>\n",
       "      <td>10.4</td>\n",
       "    </tr>\n",
       "    <tr>\n",
       "      <th>3</th>\n",
       "      <td>17.2</td>\n",
       "      <td>45.9</td>\n",
       "      <td>69.3</td>\n",
       "      <td>9.3</td>\n",
       "    </tr>\n",
       "    <tr>\n",
       "      <th>4</th>\n",
       "      <td>151.5</td>\n",
       "      <td>41.3</td>\n",
       "      <td>58.5</td>\n",
       "      <td>18.5</td>\n",
       "    </tr>\n",
       "    <tr>\n",
       "      <th>5</th>\n",
       "      <td>180.8</td>\n",
       "      <td>10.8</td>\n",
       "      <td>58.4</td>\n",
       "      <td>12.9</td>\n",
       "    </tr>\n",
       "  </tbody>\n",
       "</table>\n",
       "</div>"
      ],
      "text/plain": [
       "      TV  radio  newspaper  sales\n",
       "1  230.1   37.8       69.2   22.1\n",
       "2   44.5   39.3       45.1   10.4\n",
       "3   17.2   45.9       69.3    9.3\n",
       "4  151.5   41.3       58.5   18.5\n",
       "5  180.8   10.8       58.4   12.9"
      ]
     },
     "metadata": {},
     "execution_count": 23
    }
   ],
   "metadata": {
    "scrolled": true
   }
  },
  {
   "cell_type": "code",
   "execution_count": 24,
   "source": [
    "sales_data.columns"
   ],
   "outputs": [
    {
     "output_type": "execute_result",
     "data": {
      "text/plain": [
       "Index(['TV', 'radio', 'newspaper', 'sales'], dtype='object')"
      ]
     },
     "metadata": {},
     "execution_count": 24
    }
   ],
   "metadata": {}
  },
  {
   "cell_type": "code",
   "execution_count": 26,
   "source": [
    "# Now we take Area(SqFt), Number of bedroom(Bedrooms) and  Number of bathrooms(Bathrooms) as our feature varibales\n",
    "\n",
    "feature_variable = sales_data[['TV', 'radio', 'newspaper']]\n",
    "\n",
    "# Let's see the distribution of the feature variable though histogram plot.\n",
    "print('1. Distribution of the feature variables:')\n",
    "feature_variable.hist()\n",
    "plt.show()\n",
    "\n",
    "# Price of the house\n",
    "sales = sales_data[['sales']]\n",
    "\n",
    "# We set our X and y variable\n",
    "X=feature_variable\n",
    "y=sales\n",
    "\n",
    "#set a particular random variable so that answer obtained can be the same for everyone and everytime\n",
    "np.random.seed(42)\n",
    "\n",
    "# spliting the data into train data and test data\n",
    "from sklearn.model_selection import train_test_split\n",
    "X_train, X_test, y_train, y_test = train_test_split(X, y, test_size = 0.2)\n",
    "\n",
    "# fitting our data into model\n",
    "from sklearn.linear_model import LinearRegression\n",
    "model2=LinearRegression()\n",
    "model2.fit(X_train, y_train)\n",
    "\n",
    "# Evaluating model\n",
    "print(f'2. Accuracy of the Linear regression model: {model2.score(X_test, y_test)*100:.2f}%' )"
   ],
   "outputs": [
    {
     "output_type": "stream",
     "name": "stdout",
     "text": [
      "1. Distribution of the feature variables:\n"
     ]
    },
    {
     "output_type": "display_data",
     "data": {
      "image/png": "[encoded data removed]",
      "text/plain": [
       "<Figure size 432x288 with 4 Axes>"
      ]
     },
     "metadata": {
      "needs_background": "light"
     }
    },
    {
     "output_type": "stream",
     "name": "stdout",
     "text": [
      "2. Accuracy from the Linear regression model: 89.94%\n"
     ]
    }
   ],
   "metadata": {}
  }
 ],
 "metadata": {
  "kernelspec": {
   "name": "python3",
   "display_name": "Python 3.8.10 64-bit (windows store)"
  },
  "language_info": {
   "codemirror_mode": {
    "name": "ipython",
    "version": 3
   },
   "file_extension": ".py",
   "mimetype": "text/x-python",
   "name": "python",
   "nbconvert_exporter": "python",
   "pygments_lexer": "ipython3",
   "version": "3.8.10"
  },
  "interpreter": {
   "hash": "5402f4e6f5ccfdb307864f8591a1b8f3786429e9057b8ed09fe1dd7f0856445e"
  }
 },
 "nbformat": 4,
 "nbformat_minor": 2
}